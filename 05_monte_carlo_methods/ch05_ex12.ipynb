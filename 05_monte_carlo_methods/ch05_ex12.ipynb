{
 "cells": [
  {
   "cell_type": "markdown",
   "metadata": {},
   "source": [
    "# Exercise 5.12: Racetrack\n",
    "\n",
    "<p style=\"text-align: justify;\">\n",
    "Consider driving a race car around a turn like those shown in the figures below. You want to go as fast as possible, but not so fast as to run off the track. In our simplified racetrack, the car is at one of a discrete set of grid positions, the cells in the diagram. The velocity is also discrete, a number of grid cells moved horizontally and vertically per time step. The actions are increments to the velocity components. Each may be changed by $+1$, $-1$, or $0$ in each step, for a total of nine $(3 \\times 3)$ actions. Both velocity components are restricted to be nonnegative and less than $5$, and they cannot both be zero except at the starting line. Each episode begins in one of the randomly selected start states with both velocity components zero and ends when the car crosses the finish line. The rewards are $-1$ for each step until the car crosses the finish line. If the car hits the track boundary, it is moved back to a random position on the starting line, both velocity components are reduced to zero, and the episode continues. Before updating the car’s location at each time step, check to see if the projected path of the car intersects the track boundary. If it intersects the finish line, the episode ends; if it intersects anywhere else, the car is considered to have hit the track boundary and is sent back to the starting line. To make the task more challenging, with probability $0.1$ at each time step the velocity increments are both zero, independently of the intended increments. Apply a Monte Carlo control method to this task to compute the optimal policy from each starting state. Exhibit several trajectories following the optimal policy (but turn the noise off for these trajectories).\n",
    "</p>"
   ]
  },
  {
   "cell_type": "markdown",
   "metadata": {},
   "source": [
    "<hr style=\"height: 1px;\">"
   ]
  },
  {
   "cell_type": "code",
   "execution_count": 1,
   "metadata": {},
   "outputs": [],
   "source": [
    "import matplotlib.pyplot as plt\n",
    "import numpy as np\n",
    "import random\n",
    "import seaborn as sns\n",
    "import time\n",
    "\n",
    "from IPython.display import Image\n",
    "from tqdm import tqdm\n",
    "\n",
    "%matplotlib inline"
   ]
  },
  {
   "cell_type": "markdown",
   "metadata": {},
   "source": [
    "### Helper functions"
   ]
  },
  {
   "cell_type": "code",
   "execution_count": 2,
   "metadata": {},
   "outputs": [],
   "source": [
    "def create_path(mp, start_state, print_steps=False, print_outcome=True):\n",
    "    \n",
    "    # Load variables\n",
    "    all_states  = mp['all_states']\n",
    "    goal_states = mp['goal_states']\n",
    "    P           = mp['P']\n",
    "\n",
    "    # Initialize start state\n",
    "    state = start_state\n",
    "\n",
    "    if print_steps:\n",
    "        print(f'Generating a path from state {state}...')\n",
    "\n",
    "    # Initialize velocity\n",
    "    velocity = (0, 0)\n",
    "\n",
    "    # Initialize step counter        \n",
    "    n_steps = 0\n",
    "\n",
    "    while True:\n",
    "\n",
    "        # If the car has reached one of the goal states\n",
    "#             if state in goal_states:\n",
    "#                 print(f'State: {state}')\n",
    "#                 print(f'\\nSUCCESS: Goal state {state} has been reached in {n_steps} steps!')\n",
    "#                 break\n",
    "\n",
    "        # Make an action by following the target policy\n",
    "        action = P[state][velocity]\n",
    "\n",
    "        if print_steps:\n",
    "            print(f'{n_steps:>3} | State: {str(state):<8} | Velocity: {str(velocity):<8} | Action: {str(action):<8}')\n",
    "\n",
    "        # Update velocity \n",
    "        velocity = get_next_velocity(velocity, action)\n",
    "\n",
    "        # Move to the next state\n",
    "        next_state = get_next_state(state, velocity)\n",
    "\n",
    "        # Update step counter\n",
    "        n_steps += 1\n",
    "\n",
    "        # If the car has crossed the finish line\n",
    "        if has_crossed_finish(next_state, goal_states):\n",
    "            if print_steps:\n",
    "                print(f'{n_steps:>3} | State: {next_state}')\n",
    "            if print_outcome:\n",
    "                print(f'\\nSUCCESS: The car has crossed the finish line in {n_steps} steps!\\n\\n')\n",
    "            return True\n",
    "\n",
    "        # If the car gets out of bounds\n",
    "        if next_state not in all_states:\n",
    "            if print_steps:\n",
    "                print(f'{n_steps:>3} | State: {next_state}')\n",
    "            if print_outcome:\n",
    "                print('\\nFAILURE: The car got out of bounds by taking action ' + \\\n",
    "                     f'{action} on velocity {velocity} in state {state}!\\n\\n')\n",
    "            return False\n",
    "\n",
    "        # If the car has been caught in an infinite loop\n",
    "        if state == next_state:\n",
    "            if print_steps:\n",
    "                print(f'{n_steps:>3} | State: {next_state}')\n",
    "            if print_outcome:\n",
    "                print(f'\\nFAILURE: The car has got stuck in state {state}!\\n\\n')\n",
    "            return False\n",
    "        \n",
    "        # Move to the next state\n",
    "        state = next_state\n",
    "\n",
    "    return"
   ]
  },
  {
   "cell_type": "code",
   "execution_count": 3,
   "metadata": {},
   "outputs": [],
   "source": [
    "def generate_all_paths(mp):\n",
    "    success = True\n",
    "    for state in sorted(mp['start_states']):\n",
    "        success &= create_path(mp, state, print_steps=True)\n",
    "    return success"
   ]
  },
  {
   "cell_type": "code",
   "execution_count": 4,
   "metadata": {},
   "outputs": [],
   "source": [
    "def dict_to_map(mp, dct):\n",
    "    max_v, max_h = mp.shape\n",
    "    return [\n",
    "        [\n",
    "            dct[(v, h)] if (v, h) in sorted(dct.keys()) else None\n",
    "            for h in range(max_h)\n",
    "        ]\n",
    "        for v in range(max_v)\n",
    "    ]"
   ]
  },
  {
   "cell_type": "code",
   "execution_count": 5,
   "metadata": {},
   "outputs": [],
   "source": [
    "def generate_all_actions(vel_change):\n",
    "    return {\n",
    "        (v_change, h_change)\n",
    "        for v_change in vel_change\n",
    "        for h_change in vel_change\n",
    "    }"
   ]
  },
  {
   "cell_type": "code",
   "execution_count": 6,
   "metadata": {},
   "outputs": [],
   "source": [
    "def generate_all_states(mp):\n",
    "    return {\n",
    "        (v, h)\n",
    "        for v in range(mp.shape[0])\n",
    "        for h in range(mp.shape[1])\n",
    "        if mp[v, h]\n",
    "    }"
   ]
  },
  {
   "cell_type": "code",
   "execution_count": 7,
   "metadata": {},
   "outputs": [],
   "source": [
    "def generate_all_velocities(max_speed):\n",
    "    return {\n",
    "        (v_vel, h_vel)\n",
    "        for v_vel in range(-max_speed, max_speed+1)\n",
    "        for h_vel in range(-max_speed, max_speed+1)\n",
    "    }"
   ]
  },
  {
   "cell_type": "code",
   "execution_count": 8,
   "metadata": {},
   "outputs": [],
   "source": [
    "def get_action_probs(pr_state):\n",
    "    actions, probs = list(), list()\n",
    "    \n",
    "    for action in pr_state.keys():\n",
    "        actions += [action]\n",
    "        probs   += [pr_state[action]]\n",
    "        \n",
    "    return actions, probs"
   ]
  },
  {
   "cell_type": "code",
   "execution_count": 9,
   "metadata": {},
   "outputs": [],
   "source": [
    "def get_best_action(q):\n",
    "    best_value = -np.inf\n",
    "    best_action = None\n",
    "    \n",
    "    for action in q.keys():\n",
    "        if best_value < q[action]:\n",
    "            best_value  = q[action]\n",
    "            best_action = action\n",
    "            \n",
    "    return best_action"
   ]
  },
  {
   "cell_type": "code",
   "execution_count": 10,
   "metadata": {},
   "outputs": [],
   "source": [
    "def get_next_state(state, velocity):\n",
    "    return (state[0] + velocity[0],\n",
    "            state[1] + velocity[1])"
   ]
  },
  {
   "cell_type": "code",
   "execution_count": 11,
   "metadata": {},
   "outputs": [],
   "source": [
    "def get_next_velocity(velocity, action):\n",
    "#     return (max(-max_speed, min(max_speed, velocity[0] + action[0])),\n",
    "#             max(-max_speed, min(max_speed, velocity[1] + action[1])))\n",
    "    return (velocity[0] + action[0],\n",
    "            velocity[1] + action[1])"
   ]
  },
  {
   "cell_type": "code",
   "execution_count": 12,
   "metadata": {},
   "outputs": [],
   "source": [
    "def has_crossed_finish(state, goal_states):\n",
    "    for goal_state in goal_states:\n",
    "        if state[0] == goal_state[0] and state[1] > goal_state[1]:\n",
    "            return True\n",
    "\n",
    "    return False"
   ]
  },
  {
   "cell_type": "code",
   "execution_count": 13,
   "metadata": {},
   "outputs": [],
   "source": [
    "# def is_valid_trajectory(all_states, state, velocity):\n",
    "#     new_states = {\n",
    "#         (state[0] + velocity[0], state[1]),\n",
    "#         (state[0]              , state[1] + velocity[1]),\n",
    "#         (state[0] + velocity[0], state[1] + velocity[1])\n",
    "#     }\n",
    "#     return new_states.issubset(all_states)"
   ]
  },
  {
   "cell_type": "code",
   "execution_count": 14,
   "metadata": {},
   "outputs": [],
   "source": [
    "def is_valid_action(velocity, action):\n",
    "    if not -MAX_SPEED <= velocity[0] + action[0] <= MAX_SPEED \\\n",
    "    or not -MAX_SPEED <= velocity[1] + action[1] <= MAX_SPEED:\n",
    "        return False\n",
    "    return True"
   ]
  },
  {
   "cell_type": "code",
   "execution_count": 15,
   "metadata": {},
   "outputs": [],
   "source": [
    "def plot_map(mp):\n",
    "    plt.figure(figsize=(14, 14))\n",
    "    sns.heatmap(np.flip(mp, axis=0), cbar=None, cmap='bwr',\n",
    "                linewidths=0.05, square=True,\n",
    "                yticklabels=np.arange(len(mp) - 1, -1, -1))\n",
    "    plt.show()\n",
    "    return"
   ]
  },
  {
   "cell_type": "code",
   "execution_count": 16,
   "metadata": {},
   "outputs": [],
   "source": [
    "def print_policy(mp):\n",
    "    for state in sorted(mp['all_states']):\n",
    "        for velocity in sorted(mp['all_velocities']):\n",
    "            print(state, velocity, mp['P'][state][velocity])\n",
    "        print()\n",
    "    return"
   ]
  },
  {
   "cell_type": "code",
   "execution_count": 17,
   "metadata": {},
   "outputs": [],
   "source": [
    "def get_time():\n",
    "    now = time.localtime()\n",
    "    return f'{now.tm_year}-{now.tm_mon:02d}-{now.tm_mday:02d} ' \\\n",
    "           f'{now.tm_hour:02d}:{now.tm_min:02d}:{now.tm_sec:02d}'"
   ]
  },
  {
   "cell_type": "markdown",
   "metadata": {},
   "source": [
    "### Settings"
   ]
  },
  {
   "cell_type": "code",
   "execution_count": 18,
   "metadata": {},
   "outputs": [],
   "source": [
    "MAX_SPEED        = 4\n",
    "POLICY_TYPES     = ['on', 'off_pred', 'off_control']\n",
    "VELOCITY_CHANGE  = [-1, 0, 1]"
   ]
  },
  {
   "cell_type": "markdown",
   "metadata": {},
   "source": [
    "### Constants"
   ]
  },
  {
   "cell_type": "code",
   "execution_count": 19,
   "metadata": {},
   "outputs": [],
   "source": [
    "ALL_ACTIONS    = generate_all_actions(VELOCITY_CHANGE)\n",
    "ALL_VELOCITIES = generate_all_velocities(MAX_SPEED)\n",
    "\n",
    "VALID_ACTIONS = {\n",
    "    velocity: {\n",
    "        action\n",
    "        for action in ALL_ACTIONS\n",
    "        if is_valid_action(velocity, action)\n",
    "    }\n",
    "    for velocity in ALL_VELOCITIES\n",
    "}"
   ]
  },
  {
   "cell_type": "markdown",
   "metadata": {},
   "source": [
    "### Algorithms"
   ]
  },
  {
   "cell_type": "markdown",
   "metadata": {},
   "source": [
    "#### Intialization"
   ]
  },
  {
   "cell_type": "code",
   "execution_count": 20,
   "metadata": {},
   "outputs": [],
   "source": [
    "def initialize(mp, epsilon=1e-1):\n",
    "    \"\"\"\n",
    "    mp: a given map\n",
    "    \"\"\"\n",
    "\n",
    "    # Constants\n",
    "    all_states = generate_all_states(mp)  # all valid states\n",
    "\n",
    "    # Variables\n",
    "    start_states = set()  # initial states (states at starting line)\n",
    "    goal_states = set()  # final states (states at finish line)\n",
    "    \n",
    "    b = dict()   # behavior policy\n",
    "    C = dict()   # cumulative sum of the weights to the returns\n",
    "    P = dict()   # policy\n",
    "    Q = dict()   # state-action values\n",
    "    R = dict()   # rewards\n",
    "    Pr = dict()  # probabilities of target policy\n",
    "\n",
    "    for state in all_states:\n",
    "        \n",
    "        # States at starting line\n",
    "        if state[0] == 0:\n",
    "            start_states.add(state)\n",
    "            \n",
    "        # States at finish line\n",
    "        if state[1] == mp.shape[1]-1:\n",
    "            goal_states.add(state)\n",
    "            \n",
    "        b.setdefault(state, dict())\n",
    "        C.setdefault(state, dict())\n",
    "        Q.setdefault(state, dict())\n",
    "        P.setdefault(state, dict())\n",
    "        Pr.setdefault(state, dict())\n",
    "        \n",
    "        # Initialize rewards\n",
    "        R[state] = -1\n",
    "        \n",
    "        for velocity in ALL_VELOCITIES:\n",
    "            \n",
    "            b[state].setdefault(velocity, dict())\n",
    "            C[state].setdefault(velocity, dict())\n",
    "            Q[state].setdefault(velocity, dict())\n",
    "            P[state].setdefault(velocity, dict())\n",
    "            Pr[state].setdefault(velocity, dict())\n",
    "        \n",
    "            for action in VALID_ACTIONS[velocity]:\n",
    "\n",
    "                # Initialize behavior-policy probabilities\n",
    "                b[state][velocity][action] = 1 / len(VALID_ACTIONS[velocity])\n",
    "\n",
    "                # Initialize cumulative sums\n",
    "                C[state][velocity][action] = 0.0  # state-action: cumulative sum\n",
    "\n",
    "                # Initialize state-action values\n",
    "                Q[state][velocity][action] = 0.0  # state-action: Q-value\n",
    "\n",
    "                # Initialize probabilities\n",
    "                Pr[state][velocity][action] = epsilon / len(VALID_ACTIONS[velocity])\n",
    "\n",
    "            # Initialize policies randomly\n",
    "#             best_action = random.choice(list(VALID_ACTIONS[velocity]))\n",
    "            best_action = (0, 0)\n",
    "            P[state][velocity] = best_action\n",
    "            Pr[state][velocity][best_action] = (1 - epsilon) + (epsilon / len(VALID_ACTIONS[velocity]))\n",
    "        \n",
    "    return {\n",
    "        'all_states': all_states,\n",
    "        'start_states': start_states,\n",
    "        'goal_states': goal_states,\n",
    "        'b': b,\n",
    "        'C': C,\n",
    "        'P': P,\n",
    "        'Q': Q,\n",
    "        'R': R,\n",
    "        'Pr': Pr,\n",
    "        'total_episodes': 0,\n",
    "    }"
   ]
  },
  {
   "cell_type": "markdown",
   "metadata": {},
   "source": [
    "#### Iteration"
   ]
  },
  {
   "cell_type": "code",
   "execution_count": 21,
   "metadata": {},
   "outputs": [],
   "source": [
    "def iterate(mp, policy_type,\n",
    "            epsilon=1e-1, gamma=1.00, n_episodes=None, start_state=None,\n",
    "            first_visit=True, same_start=False, unstable_only=False):\n",
    "    \"\"\"\n",
    "    policy_type: {\n",
    "        'on': On-policy Monte Carlo\n",
    "        'off_pred': Off-policy MC prediction\n",
    "        'off_control': Off-policy MC control\n",
    "    }\n",
    "    \"\"\"\n",
    "\n",
    "    if policy_type not in POLICY_TYPES:\n",
    "        print('ERROR: Unknown policy type!')\n",
    "        return mp\n",
    "\n",
    "    # Load map\n",
    "    all_states = mp['all_states']\n",
    "    start_states = mp['start_states']\n",
    "    goal_states = mp['goal_states']\n",
    "    b = mp['b']\n",
    "    C = mp['C']\n",
    "    P = mp['P']\n",
    "    Q = mp['Q']\n",
    "    R = mp['R']\n",
    "    Pr = mp['Pr']\n",
    "    total_episodes = mp['total_episodes']\n",
    "    \n",
    "    n_iters = 0\n",
    "    trained_states = set()\n",
    "    unstable_states = start_states\n",
    "    \n",
    "#     print(f'{get_time()} | Iteration {total_episodes + n_iters:>9d} | Trained states: 0/{len(start_states)}')\n",
    "    \n",
    "    # Iterate\n",
    "    while len(unstable_states) > 0:\n",
    "        \n",
    "        # Initialize velocity\n",
    "        velocity = (0, 0)\n",
    "\n",
    "        # Randomly select initial state, if no start state        \n",
    "        if start_state is None:\n",
    "            if unstable_only:\n",
    "                start_state = random.choice(list(unstable_states))\n",
    "            else:\n",
    "                start_state = random.choice(list(start_states))\n",
    "  \n",
    "        state = start_state\n",
    "        \n",
    "        # Initialize step counter        \n",
    "        n_steps = 1\n",
    "\n",
    "        # Initialize actions and corresponding probabilities\n",
    "        actions, probs = None, None\n",
    "        \n",
    "        # Initialize the flag of crossing the finish line\n",
    "        crossed_finish_line = False\n",
    "        \n",
    "        # Initialize episode memory\n",
    "        episode = []\n",
    "        \n",
    "        while not crossed_finish_line:\n",
    "        \n",
    "            # Randomly select next action\n",
    "            # - On-policy Monte Carlo\n",
    "            if policy_type == 'on':\n",
    "                actions, probs = get_action_probs(Pr[state][velocity])\n",
    "                \n",
    "            # - Off-policy Monte Carlo\n",
    "            if policy_type in {'off_pred', 'off_control'}:\n",
    "                actions, probs = get_action_probs(b[state][velocity])\n",
    "\n",
    "            action = np.random.choice(len(actions), p=probs)\n",
    "            action = actions[action]\n",
    "\n",
    "            # Making the task more challenging\n",
    "#             if np.random.uniform() < 0.1:\n",
    "#                 action = (0, 0)\n",
    "\n",
    "            # Generate sequence of actions (1 episode)\n",
    "            episode += [(state, velocity, action)]\n",
    "\n",
    "            # Update velocity \n",
    "            velocity = get_next_velocity(velocity, action)\n",
    "\n",
    "            # Move to the next state\n",
    "            state = get_next_state(state, velocity)\n",
    "\n",
    "            # Check whether the car is going to pass the finish line\n",
    "            crossed_finish_line = has_crossed_finish(state, goal_states)\n",
    "                \n",
    "            # If the car gets out of bounds\n",
    "            if state not in all_states and not crossed_finish_line:\n",
    "                \n",
    "                # Reduce velocity\n",
    "                velocity = (0, 0)\n",
    "                \n",
    "                state = start_state\n",
    "                \n",
    "                # Randomly get back to initial state\n",
    "                if not same_start:\n",
    "                    if unstable_only:\n",
    "                        state = random.choice(list(unstable_states))\n",
    "                    else:\n",
    "                        state = random.choice(list(start_states))\n",
    "                \n",
    "            # Increase counter of episode steps\n",
    "            n_steps += 1\n",
    "\n",
    "        # Increase counter of iterations/episodes\n",
    "        n_iters += 1\n",
    "\n",
    "        # Print last state of the episode\n",
    "#         print(f'Episode {total_episodes + n_iters:>9d} | {n_steps:>9d} steps:', state, action, velocity)\n",
    "        \n",
    "        G = 0.0\n",
    "        W = 1.0\n",
    "        \n",
    "        for t in range(len(episode)-1, -1, -1):\n",
    "            state, velocity, action = episode[t]\n",
    "            G = gamma * G + R[state]\n",
    "\n",
    "            # If every-visit or (first-visit and the state was not encountered before)\n",
    "            if not first_visit or (state, velocity, action) not in episode[:t]:\n",
    "                \n",
    "                # On-policy (first-visit) MC control (for epsilon-soft policies)\n",
    "                if policy_type == 'on':\n",
    "                    \n",
    "                    # Incremental implementation\n",
    "                    C[state][velocity][action] += 1.0\n",
    "                    Q[state][velocity][action] += (G - Q[state][velocity][action]) / C[state][velocity][action]\n",
    "            \n",
    "                    best_action = get_best_action(Q[state][velocity])\n",
    "                    n_actions = len(VALID_ACTIONS[velocity])\n",
    "\n",
    "                    for action in Pr[state][velocity].keys():\n",
    "                        Pr[state][velocity][action] = epsilon / n_actions\n",
    "\n",
    "                    Pr[state][velocity][best_action] = (1 - epsilon) + (epsilon / n_actions)\n",
    "                    P[state][velocity]               = best_action\n",
    "                \n",
    "                # Off-policy Monte Carlo\n",
    "                if policy_type in {'off_pred', 'off_control'}:\n",
    "                    C[state][velocity][action] += W\n",
    "                    Q[state][velocity][action] += W / C[state][velocity][action] * (G - Q[state][velocity][action])\n",
    "\n",
    "                    # Off-policy MC prediction (policy evaluation)\n",
    "                    if policy_type == 'off_pred':\n",
    "                        W *= Pr[state][velocity][action] / b[state][velocity][action]\n",
    "\n",
    "                    # Off-policy Monte Carlo control\n",
    "                    if policy_type == 'off_control':\n",
    "                        P[state][velocity] = get_best_action(Q[state][velocity])\n",
    "                        \n",
    "                        if P[state][velocity] != action:\n",
    "                            break\n",
    "                        W /= b[state][velocity][action]\n",
    "                    \n",
    "        mp = {\n",
    "            'all_states': all_states,\n",
    "            'start_states': start_states,\n",
    "            'goal_states': goal_states,\n",
    "            'b': b,\n",
    "            'C': C,\n",
    "            'P': P,\n",
    "            'Q': Q,\n",
    "            'R': R,\n",
    "            'Pr': Pr,\n",
    "            'total_episodes': total_episodes + n_iters\n",
    "        }\n",
    "        \n",
    "        # Get unstable states\n",
    "        unstable_states_old = unstable_states\n",
    "        unstable_states = set()\n",
    "        for state in start_states:\n",
    "            if not create_path(mp, state, print_outcome=False):\n",
    "                unstable_states.add(state)\n",
    "                    \n",
    "        # Check whether there is a change in the set of unstable states\n",
    "        if unstable_states != unstable_states_old:\n",
    "            trained_states = start_states.difference(unstable_states)\n",
    "#             print(f'\\n{get_time()} | Iteration {total_episodes + n_iters:>9d} | Trained states: {len(trained_states)}/{len(start_states)}\\n    {sorted(list(trained_states))}\\n')\n",
    "        \n",
    "        if n_episodes is not None and n_iters == n_episodes:\n",
    "            break\n",
    "        \n",
    "    print(f'The whole process has finished successfully after {total_episodes + n_iters} episodes!')\n",
    "    \n",
    "    return {\n",
    "        'all_states': all_states,\n",
    "        'start_states': start_states,\n",
    "        'goal_states': goal_states,\n",
    "        'b': b,\n",
    "        'C': C,\n",
    "        'P': P,\n",
    "        'Q': Q,\n",
    "        'R': R,\n",
    "        'Pr': Pr,\n",
    "        'total_episodes': total_episodes + n_iters\n",
    "    }"
   ]
  },
  {
   "cell_type": "markdown",
   "metadata": {},
   "source": [
    "<hr style=\"height: 1px;\">"
   ]
  },
  {
   "cell_type": "markdown",
   "metadata": {},
   "source": [
    "### Map 1"
   ]
  },
  {
   "cell_type": "code",
   "execution_count": 22,
   "metadata": {},
   "outputs": [
    {
     "data": {
      "image/png": "[encoded data removed]",
      "text/plain": [
       "<IPython.core.display.Image object>"
      ]
     },
     "execution_count": 22,
     "metadata": {},
     "output_type": "execute_result"
    }
   ],
   "source": [
    "Image(\"ch05_ex12/map1.png\")"
   ]
  },
  {
   "cell_type": "code",
   "execution_count": 23,
   "metadata": {},
   "outputs": [],
   "source": [
    "m1 = np.zeros((32, 17), dtype=np.bool)\n",
    "\n",
    "m1[31:32, 3:17] = True\n",
    "m1[29:31, 2:17] = True\n",
    "m1[28:29, 1:17] = True\n",
    "m1[26:28, 0:17] = True\n",
    "m1[25:26, 0:10] = True\n",
    "m1[18:25, 0: 9] = True\n",
    "m1[10:18, 1: 9] = True\n",
    "m1[ 3:10, 2: 9] = True\n",
    "m1[ 0: 3, 3: 9] = True"
   ]
  },
  {
   "cell_type": "code",
   "execution_count": null,
   "metadata": {},
   "outputs": [],
   "source": [
    "plot_map(m1)"
   ]
  },
  {
   "cell_type": "markdown",
   "metadata": {},
   "source": [
    "#### On-policy"
   ]
  },
  {
   "cell_type": "code",
   "execution_count": 24,
   "metadata": {},
   "outputs": [],
   "source": [
    "m1_on = initialize(m1)"
   ]
  },
  {
   "cell_type": "code",
   "execution_count": 25,
   "metadata": {},
   "outputs": [
    {
     "name": "stdout",
     "output_type": "stream",
     "text": [
      "The whole process has finished successfully after 133290205 episodes!\n"
     ]
    }
   ],
   "source": [
    "m1_on = iterate(m1_on, 'on', gamma=0.9999, n_episodes=10000000, first_visit=False, same_start=True)"
   ]
  },
  {
   "cell_type": "code",
   "execution_count": 26,
   "metadata": {},
   "outputs": [
    {
     "name": "stdout",
     "output_type": "stream",
     "text": [
      "Generating a path from state (0, 3)...\n",
      "  0 | State: (0, 3)   | Velocity: (0, 0)   | Action: (0, 1)  \n",
      "  1 | State: (0, 4)   | Velocity: (0, 1)   | Action: (1, 1)  \n",
      "  2 | State: (1, 6)   | Velocity: (1, 2)   | Action: (1, -1) \n",
      "  3 | State: (3, 7)   | Velocity: (2, 1)   | Action: (1, -1) \n",
      "  4 | State: (6, 7)   | Velocity: (3, 0)   | Action: (1, -1) \n",
      "  5 | State: (10, 6)  | Velocity: (4, -1)  | Action: (0, 0)  \n",
      "  6 | State: (14, 5)  | Velocity: (4, -1)  | Action: (-1, 1) \n",
      "  7 | State: (17, 5)  | Velocity: (3, 0)   | Action: (1, 1)  \n",
      "  8 | State: (21, 6)  | Velocity: (4, 1)   | Action: (-1, 1) \n",
      "  9 | State: (24, 8)  | Velocity: (3, 2)   | Action: (-1, 1) \n",
      " 10 | State: (26, 11) | Velocity: (2, 3)   | Action: (0, 1)  \n",
      " 11 | State: (28, 15) | Velocity: (2, 4)   | Action: (0, 0)  \n",
      " 12 | State: (30, 19)\n",
      "\n",
      "SUCCESS: The car has crossed the finish line in 12 steps!\n",
      "\n",
      "\n",
      "Generating a path from state (0, 4)...\n",
      "  0 | State: (0, 4)   | Velocity: (0, 0)   | Action: (1, -1) \n",
      "  1 | State: (1, 3)   | Velocity: (1, -1)  | Action: (1, 1)  \n",
      "  2 | State: (3, 3)   | Velocity: (2, 0)   | Action: (1, 0)  \n",
      "  3 | State: (6, 3)   | Velocity: (3, 0)   | Action: (1, -1) \n",
      "  4 | State: (10, 2)  | Velocity: (4, -1)  | Action: (-1, 1) \n",
      "  5 | State: (13, 2)  | Velocity: (3, 0)   | Action: (1, 1)  \n",
      "  6 | State: (17, 3)  | Velocity: (4, 1)   | Action: (0, 1)  \n",
      "  7 | State: (21, 5)  | Velocity: (4, 2)   | Action: (-1, 1) \n",
      "  8 | State: (24, 8)  | Velocity: (3, 3)   | Action: (-1, 1) \n",
      "  9 | State: (26, 12) | Velocity: (2, 4)   | Action: (0, 0)  \n",
      " 10 | State: (28, 16) | Velocity: (2, 4)   | Action: (0, 0)  \n",
      " 11 | State: (30, 20)\n",
      "\n",
      "SUCCESS: The car has crossed the finish line in 11 steps!\n",
      "\n",
      "\n",
      "Generating a path from state (0, 5)...\n",
      "  0 | State: (0, 5)   | Velocity: (0, 0)   | Action: (1, -1) \n",
      "  1 | State: (1, 4)   | Velocity: (1, -1)  | Action: (1, 1)  \n",
      "  2 | State: (3, 4)   | Velocity: (2, 0)   | Action: (1, 0)  \n",
      "  3 | State: (6, 4)   | Velocity: (3, 0)   | Action: (1, 1)  \n",
      "  4 | State: (10, 5)  | Velocity: (4, 1)   | Action: (0, -1) \n",
      "  5 | State: (14, 5)  | Velocity: (4, 0)   | Action: (-1, 0) \n",
      "  6 | State: (17, 5)  | Velocity: (3, 0)   | Action: (1, 1)  \n",
      "  7 | State: (21, 6)  | Velocity: (4, 1)   | Action: (-1, 1) \n",
      "  8 | State: (24, 8)  | Velocity: (3, 2)   | Action: (-1, 1) \n",
      "  9 | State: (26, 11) | Velocity: (2, 3)   | Action: (0, 1)  \n",
      " 10 | State: (28, 15) | Velocity: (2, 4)   | Action: (0, 0)  \n",
      " 11 | State: (30, 19)\n",
      "\n",
      "SUCCESS: The car has crossed the finish line in 11 steps!\n",
      "\n",
      "\n",
      "Generating a path from state (0, 6)...\n",
      "  0 | State: (0, 6)   | Velocity: (0, 0)   | Action: (1, -1) \n",
      "  1 | State: (1, 5)   | Velocity: (1, -1)  | Action: (1, 0)  \n",
      "  2 | State: (3, 4)   | Velocity: (2, -1)  | Action: (1, 1)  \n",
      "  3 | State: (6, 4)   | Velocity: (3, 0)   | Action: (1, 1)  \n",
      "  4 | State: (10, 5)  | Velocity: (4, 1)   | Action: (0, -1) \n",
      "  5 | State: (14, 5)  | Velocity: (4, 0)   | Action: (-1, 0) \n",
      "  6 | State: (17, 5)  | Velocity: (3, 0)   | Action: (1, 1)  \n",
      "  7 | State: (21, 6)  | Velocity: (4, 1)   | Action: (-1, 1) \n",
      "  8 | State: (24, 8)  | Velocity: (3, 2)   | Action: (-1, 1) \n",
      "  9 | State: (26, 11) | Velocity: (2, 3)   | Action: (0, 1)  \n",
      " 10 | State: (28, 15) | Velocity: (2, 4)   | Action: (0, 0)  \n",
      " 11 | State: (30, 19)\n",
      "\n",
      "SUCCESS: The car has crossed the finish line in 11 steps!\n",
      "\n",
      "\n",
      "Generating a path from state (0, 7)...\n",
      "  0 | State: (0, 7)   | Velocity: (0, 0)   | Action: (1, -1) \n",
      "  1 | State: (1, 6)   | Velocity: (1, -1)  | Action: (1, -1) \n",
      "  2 | State: (3, 4)   | Velocity: (2, -2)  | Action: (1, 0)  \n",
      "  3 | State: (6, 2)   | Velocity: (3, -2)  | Action: (1, 1)  \n",
      "  4 | State: (10, 1)  | Velocity: (4, -1)  | Action: (0, 1)  \n",
      "  5 | State: (14, 1)  | Velocity: (4, 0)   | Action: (0, 1)  \n",
      "  6 | State: (18, 2)  | Velocity: (4, 1)   | Action: (-1, 1) \n",
      "  7 | State: (21, 4)  | Velocity: (3, 2)   | Action: (-1, 0) \n",
      "  8 | State: (23, 6)  | Velocity: (2, 2)   | Action: (0, 1)  \n",
      "  9 | State: (25, 9)  | Velocity: (2, 3)   | Action: (-1, 1) \n",
      " 10 | State: (26, 13) | Velocity: (1, 4)   | Action: (0, 0)  \n",
      " 11 | State: (27, 17)\n",
      "\n",
      "SUCCESS: The car has crossed the finish line in 11 steps!\n",
      "\n",
      "\n",
      "Generating a path from state (0, 8)...\n",
      "  0 | State: (0, 8)   | Velocity: (0, 0)   | Action: (1, -1) \n",
      "  1 | State: (1, 7)   | Velocity: (1, -1)  | Action: (1, 1)  \n",
      "  2 | State: (3, 7)   | Velocity: (2, 0)   | Action: (1, 0)  \n",
      "  3 | State: (6, 7)   | Velocity: (3, 0)   | Action: (1, -1) \n",
      "  4 | State: (10, 6)  | Velocity: (4, -1)  | Action: (0, 0)  \n",
      "  5 | State: (14, 5)  | Velocity: (4, -1)  | Action: (-1, 1) \n",
      "  6 | State: (17, 5)  | Velocity: (3, 0)   | Action: (1, 1)  \n",
      "  7 | State: (21, 6)  | Velocity: (4, 1)   | Action: (-1, 1) \n",
      "  8 | State: (24, 8)  | Velocity: (3, 2)   | Action: (-1, 1) \n",
      "  9 | State: (26, 11) | Velocity: (2, 3)   | Action: (0, 1)  \n",
      " 10 | State: (28, 15) | Velocity: (2, 4)   | Action: (0, 0)  \n",
      " 11 | State: (30, 19)\n",
      "\n",
      "SUCCESS: The car has crossed the finish line in 11 steps!\n",
      "\n",
      "\n"
     ]
    },
    {
     "data": {
      "text/plain": [
       "True"
      ]
     },
     "execution_count": 26,
     "metadata": {},
     "output_type": "execute_result"
    }
   ],
   "source": [
    "generate_all_paths(m1_on)"
   ]
  },
  {
   "cell_type": "markdown",
   "metadata": {},
   "source": [
    "#### Off-policy prediction"
   ]
  },
  {
   "cell_type": "code",
   "execution_count": null,
   "metadata": {},
   "outputs": [],
   "source": [
    "# m1_off_pred = initialize(m1)"
   ]
  },
  {
   "cell_type": "code",
   "execution_count": null,
   "metadata": {},
   "outputs": [],
   "source": [
    "# m1_off_pred = iterate(m1_off_pred, 'off_pred', same_start=True)"
   ]
  },
  {
   "cell_type": "markdown",
   "metadata": {},
   "source": [
    "#### Off-policy control (State, Velocity $\\rightarrow$ Action)"
   ]
  },
  {
   "cell_type": "code",
   "execution_count": null,
   "metadata": {},
   "outputs": [],
   "source": [
    "# m1_off_control_sv = initialize(m1)"
   ]
  },
  {
   "cell_type": "code",
   "execution_count": null,
   "metadata": {},
   "outputs": [],
   "source": [
    "# m1_off_control_sv = iterate(m1_off_control_sv, 'off_control', same_start=True)"
   ]
  },
  {
   "cell_type": "code",
   "execution_count": null,
   "metadata": {},
   "outputs": [],
   "source": [
    "# generate_all_paths(m1_off_control_sv)"
   ]
  },
  {
   "cell_type": "markdown",
   "metadata": {},
   "source": [
    "<hr style=\"height: 1px;\">"
   ]
  },
  {
   "cell_type": "markdown",
   "metadata": {},
   "source": [
    "### Map 2"
   ]
  },
  {
   "cell_type": "code",
   "execution_count": 27,
   "metadata": {},
   "outputs": [
    {
     "data": {
      "image/png": "[encoded data removed]",
      "text/plain": [
       "<IPython.core.display.Image object>"
      ]
     },
     "execution_count": 27,
     "metadata": {},
     "output_type": "execute_result"
    }
   ],
   "source": [
    "Image(\"ch05_ex12/map2.png\")"
   ]
  },
  {
   "cell_type": "code",
   "execution_count": 28,
   "metadata": {},
   "outputs": [],
   "source": [
    "m2 = np.zeros((30, 32), dtype=np.bool)\n",
    "\n",
    "m2[29:30, 16:32] = True\n",
    "m2[28:29, 13:32] = True\n",
    "m2[27:28, 12:32] = True\n",
    "m2[23:27, 11:32] = True\n",
    "m2[22:23, 12:32] = True\n",
    "m2[21:22, 13:32] = True\n",
    "m2[20:21, 14:30] = True\n",
    "m2[19:20, 14:27] = True\n",
    "m2[18:19, 14:26] = True\n",
    "m2[17:18, 14:24] = True\n",
    "m2[16:17, 14:23] = True\n",
    "m2[15:16, 13:23] = True\n",
    "m2[14:15, 12:23] = True\n",
    "m2[13:14, 11:23] = True\n",
    "m2[12:13, 10:23] = True\n",
    "m2[11:12,  9:23] = True\n",
    "m2[10:11,  8:23] = True\n",
    "m2[ 9:10,  7:23] = True\n",
    "m2[ 8: 9,  6:23] = True\n",
    "m2[ 7: 8,  5:23] = True\n",
    "m2[ 6: 7,  4:23] = True\n",
    "m2[ 5: 6,  3:23] = True\n",
    "m2[ 4: 5,  2:23] = True\n",
    "m2[ 3: 4,  1:23] = True\n",
    "m2[ 0: 3,  0:23] = True"
   ]
  },
  {
   "cell_type": "code",
   "execution_count": null,
   "metadata": {},
   "outputs": [],
   "source": [
    "plot_map(m2)"
   ]
  },
  {
   "cell_type": "markdown",
   "metadata": {},
   "source": [
    "#### On-policy"
   ]
  },
  {
   "cell_type": "code",
   "execution_count": 29,
   "metadata": {},
   "outputs": [],
   "source": [
    "m2_on = initialize(m2)"
   ]
  },
  {
   "cell_type": "code",
   "execution_count": 30,
   "metadata": {},
   "outputs": [
    {
     "name": "stdout",
     "output_type": "stream",
     "text": [
      "The whole process has finished successfully after 840000012 episodes!\n"
     ]
    }
   ],
   "source": [
    "m2_on = iterate(m2_on, 'on', gamma=0.9999, n_episodes=10000000, first_visit=False, same_start=True)"
   ]
  },
  {
   "cell_type": "code",
   "execution_count": 31,
   "metadata": {
    "scrolled": false
   },
   "outputs": [
    {
     "name": "stdout",
     "output_type": "stream",
     "text": [
      "Generating a path from state (0, 0)...\n",
      "  0 | State: (0, 0)   | Velocity: (0, 0)   | Action: (1, 1)  \n",
      "  1 | State: (1, 1)   | Velocity: (1, 1)   | Action: (0, 1)  \n",
      "  2 | State: (2, 3)   | Velocity: (1, 2)   | Action: (1, 1)  \n",
      "  3 | State: (4, 6)   | Velocity: (2, 3)   | Action: (0, 1)  \n",
      "  4 | State: (6, 10)  | Velocity: (2, 4)   | Action: (1, 0)  \n",
      "  5 | State: (9, 14)  | Velocity: (3, 4)   | Action: (1, 0)  \n",
      "  6 | State: (13, 18) | Velocity: (4, 4)   | Action: (0, 0)  \n",
      "  7 | State: (17, 22) | Velocity: (4, 4)   | Action: (-1, 0) \n",
      "  8 | State: (20, 26) | Velocity: (3, 4)   | Action: (0, 0)  \n",
      "  9 | State: (23, 30) | Velocity: (3, 4)   | Action: (0, 0)  \n",
      " 10 | State: (26, 34)\n",
      "\n",
      "SUCCESS: The car has crossed the finish line in 10 steps!\n",
      "\n",
      "\n",
      "Generating a path from state (0, 1)...\n",
      "  0 | State: (0, 1)   | Velocity: (0, 0)   | Action: (1, 1)  \n",
      "  1 | State: (1, 2)   | Velocity: (1, 1)   | Action: (1, 1)  \n",
      "  2 | State: (3, 4)   | Velocity: (2, 2)   | Action: (1, 1)  \n",
      "  3 | State: (6, 7)   | Velocity: (3, 3)   | Action: (0, 1)  \n",
      "  4 | State: (9, 11)  | Velocity: (3, 4)   | Action: (0, 0)  \n",
      "  5 | State: (12, 15) | Velocity: (3, 4)   | Action: (0, 0)  \n",
      "  6 | State: (15, 19) | Velocity: (3, 4)   | Action: (0, 0)  \n",
      "  7 | State: (18, 23) | Velocity: (3, 4)   | Action: (0, 0)  \n",
      "  8 | State: (21, 27) | Velocity: (3, 4)   | Action: (0, 0)  \n",
      "  9 | State: (24, 31) | Velocity: (3, 4)   | Action: (0, 0)  \n",
      " 10 | State: (27, 35)\n",
      "\n",
      "SUCCESS: The car has crossed the finish line in 10 steps!\n",
      "\n",
      "\n",
      "Generating a path from state (0, 2)...\n",
      "  0 | State: (0, 2)   | Velocity: (0, 0)   | Action: (1, 1)  \n",
      "  1 | State: (1, 3)   | Velocity: (1, 1)   | Action: (1, 1)  \n",
      "  2 | State: (3, 5)   | Velocity: (2, 2)   | Action: (1, 1)  \n",
      "  3 | State: (6, 8)   | Velocity: (3, 3)   | Action: (1, 1)  \n",
      "  4 | State: (10, 12) | Velocity: (4, 4)   | Action: (-1, 0) \n",
      "  5 | State: (13, 16) | Velocity: (3, 4)   | Action: (0, 0)  \n",
      "  6 | State: (16, 20) | Velocity: (3, 4)   | Action: (0, 0)  \n",
      "  7 | State: (19, 24) | Velocity: (3, 4)   | Action: (-1, 0) \n",
      "  8 | State: (21, 28) | Velocity: (2, 4)   | Action: (0, 0)  \n",
      "  9 | State: (23, 32)\n",
      "\n",
      "SUCCESS: The car has crossed the finish line in 9 steps!\n",
      "\n",
      "\n",
      "Generating a path from state (0, 3)...\n",
      "  0 | State: (0, 3)   | Velocity: (0, 0)   | Action: (1, 1)  \n",
      "  1 | State: (1, 4)   | Velocity: (1, 1)   | Action: (1, 1)  \n",
      "  2 | State: (3, 6)   | Velocity: (2, 2)   | Action: (1, 1)  \n",
      "  3 | State: (6, 9)   | Velocity: (3, 3)   | Action: (1, 1)  \n",
      "  4 | State: (10, 13) | Velocity: (4, 4)   | Action: (0, 0)  \n",
      "  5 | State: (14, 17) | Velocity: (4, 4)   | Action: (-1, 0) \n",
      "  6 | State: (17, 21) | Velocity: (3, 4)   | Action: (0, 0)  \n",
      "  7 | State: (20, 25) | Velocity: (3, 4)   | Action: (0, 0)  \n",
      "  8 | State: (23, 29) | Velocity: (3, 4)   | Action: (0, 0)  \n",
      "  9 | State: (26, 33)\n",
      "\n",
      "SUCCESS: The car has crossed the finish line in 9 steps!\n",
      "\n",
      "\n",
      "Generating a path from state (0, 4)...\n",
      "  0 | State: (0, 4)   | Velocity: (0, 0)   | Action: (1, 1)  \n",
      "  1 | State: (1, 5)   | Velocity: (1, 1)   | Action: (1, 1)  \n",
      "  2 | State: (3, 7)   | Velocity: (2, 2)   | Action: (1, 1)  \n",
      "  3 | State: (6, 10)  | Velocity: (3, 3)   | Action: (1, 1)  \n",
      "  4 | State: (10, 14) | Velocity: (4, 4)   | Action: (0, 0)  \n",
      "  5 | State: (14, 18) | Velocity: (4, 4)   | Action: (-1, 0) \n",
      "  6 | State: (17, 22) | Velocity: (3, 4)   | Action: (0, 0)  \n",
      "  7 | State: (20, 26) | Velocity: (3, 4)   | Action: (0, 0)  \n",
      "  8 | State: (23, 30) | Velocity: (3, 4)   | Action: (0, 0)  \n",
      "  9 | State: (26, 34)\n",
      "\n",
      "SUCCESS: The car has crossed the finish line in 9 steps!\n",
      "\n",
      "\n",
      "Generating a path from state (0, 5)...\n",
      "  0 | State: (0, 5)   | Velocity: (0, 0)   | Action: (1, 0)  \n",
      "  1 | State: (1, 5)   | Velocity: (1, 0)   | Action: (-1, 1) \n",
      "  2 | State: (1, 6)   | Velocity: (0, 1)   | Action: (1, 0)  \n",
      "  3 | State: (2, 7)   | Velocity: (1, 1)   | Action: (1, 1)  \n",
      "  4 | State: (4, 9)   | Velocity: (2, 2)   | Action: (1, 1)  \n",
      "  5 | State: (7, 12)  | Velocity: (3, 3)   | Action: (1, 1)  \n",
      "  6 | State: (11, 16) | Velocity: (4, 4)   | Action: (0, 0)  \n",
      "  7 | State: (15, 20) | Velocity: (4, 4)   | Action: (-1, 0) \n",
      "  8 | State: (18, 24) | Velocity: (3, 4)   | Action: (-1, 0) \n",
      "  9 | State: (20, 28) | Velocity: (2, 4)   | Action: (0, 0)  \n",
      " 10 | State: (22, 32)\n",
      "\n",
      "SUCCESS: The car has crossed the finish line in 10 steps!\n",
      "\n",
      "\n",
      "Generating a path from state (0, 6)...\n",
      "  0 | State: (0, 6)   | Velocity: (0, 0)   | Action: (1, 1)  \n",
      "  1 | State: (1, 7)   | Velocity: (1, 1)   | Action: (1, 1)  \n",
      "  2 | State: (3, 9)   | Velocity: (2, 2)   | Action: (1, 1)  \n",
      "  3 | State: (6, 12)  | Velocity: (3, 3)   | Action: (1, 1)  \n",
      "  4 | State: (10, 16) | Velocity: (4, 4)   | Action: (0, 0)  \n",
      "  5 | State: (14, 20) | Velocity: (4, 4)   | Action: (0, 0)  \n",
      "  6 | State: (18, 24) | Velocity: (4, 4)   | Action: (-1, 0) \n",
      "  7 | State: (21, 28) | Velocity: (3, 4)   | Action: (0, 0)  \n",
      "  8 | State: (24, 32)\n",
      "\n",
      "SUCCESS: The car has crossed the finish line in 8 steps!\n",
      "\n",
      "\n",
      "Generating a path from state (0, 7)...\n",
      "  0 | State: (0, 7)   | Velocity: (0, 0)   | Action: (1, 0)  \n",
      "  1 | State: (1, 7)   | Velocity: (1, 0)   | Action: (1, 1)  \n",
      "  2 | State: (3, 8)   | Velocity: (2, 1)   | Action: (1, 1)  \n",
      "  3 | State: (6, 10)  | Velocity: (3, 2)   | Action: (1, 1)  \n",
      "  4 | State: (10, 13) | Velocity: (4, 3)   | Action: (0, 1)  \n",
      "  5 | State: (14, 17) | Velocity: (4, 4)   | Action: (-1, 0) \n",
      "  6 | State: (17, 21) | Velocity: (3, 4)   | Action: (0, 0)  \n",
      "  7 | State: (20, 25) | Velocity: (3, 4)   | Action: (0, 0)  \n",
      "  8 | State: (23, 29) | Velocity: (3, 4)   | Action: (0, 0)  \n",
      "  9 | State: (26, 33)\n",
      "\n",
      "SUCCESS: The car has crossed the finish line in 9 steps!\n",
      "\n",
      "\n",
      "Generating a path from state (0, 8)...\n",
      "  0 | State: (0, 8)   | Velocity: (0, 0)   | Action: (1, 1)  \n",
      "  1 | State: (1, 9)   | Velocity: (1, 1)   | Action: (1, 1)  \n",
      "  2 | State: (3, 11)  | Velocity: (2, 2)   | Action: (1, 0)  \n",
      "  3 | State: (6, 13)  | Velocity: (3, 2)   | Action: (1, 1)  \n",
      "  4 | State: (10, 16) | Velocity: (4, 3)   | Action: (0, 1)  \n",
      "  5 | State: (14, 20) | Velocity: (4, 4)   | Action: (0, 0)  \n",
      "  6 | State: (18, 24) | Velocity: (4, 4)   | Action: (-1, 0) \n",
      "  7 | State: (21, 28) | Velocity: (3, 4)   | Action: (0, 0)  \n",
      "  8 | State: (24, 32)\n",
      "\n",
      "SUCCESS: The car has crossed the finish line in 8 steps!\n",
      "\n",
      "\n",
      "Generating a path from state (0, 9)...\n",
      "  0 | State: (0, 9)   | Velocity: (0, 0)   | Action: (1, 1)  \n",
      "  1 | State: (1, 10)  | Velocity: (1, 1)   | Action: (1, 0)  \n",
      "  2 | State: (3, 11)  | Velocity: (2, 1)   | Action: (1, 1)  \n",
      "  3 | State: (6, 13)  | Velocity: (3, 2)   | Action: (1, 1)  \n",
      "  4 | State: (10, 16) | Velocity: (4, 3)   | Action: (0, 1)  \n",
      "  5 | State: (14, 20) | Velocity: (4, 4)   | Action: (0, 0)  \n",
      "  6 | State: (18, 24) | Velocity: (4, 4)   | Action: (-1, 0) \n",
      "  7 | State: (21, 28) | Velocity: (3, 4)   | Action: (0, 0)  \n",
      "  8 | State: (24, 32)\n",
      "\n",
      "SUCCESS: The car has crossed the finish line in 8 steps!\n",
      "\n",
      "\n",
      "Generating a path from state (0, 10)...\n",
      "  0 | State: (0, 10)  | Velocity: (0, 0)   | Action: (1, 1)  \n",
      "  1 | State: (1, 11)  | Velocity: (1, 1)   | Action: (1, 1)  \n",
      "  2 | State: (3, 13)  | Velocity: (2, 2)   | Action: (1, 0)  \n",
      "  3 | State: (6, 15)  | Velocity: (3, 2)   | Action: (1, 0)  \n",
      "  4 | State: (10, 17) | Velocity: (4, 2)   | Action: (0, 1)  \n",
      "  5 | State: (14, 20) | Velocity: (4, 3)   | Action: (0, 1)  \n",
      "  6 | State: (18, 24) | Velocity: (4, 4)   | Action: (-1, 0) \n",
      "  7 | State: (21, 28) | Velocity: (3, 4)   | Action: (0, 0)  \n",
      "  8 | State: (24, 32)\n",
      "\n",
      "SUCCESS: The car has crossed the finish line in 8 steps!\n",
      "\n",
      "\n",
      "Generating a path from state (0, 11)...\n",
      "  0 | State: (0, 11)  | Velocity: (0, 0)   | Action: (1, 1)  \n",
      "  1 | State: (1, 12)  | Velocity: (1, 1)   | Action: (1, 0)  \n",
      "  2 | State: (3, 13)  | Velocity: (2, 1)   | Action: (1, 1)  \n",
      "  3 | State: (6, 15)  | Velocity: (3, 2)   | Action: (1, 0)  \n",
      "  4 | State: (10, 17) | Velocity: (4, 2)   | Action: (0, 1)  \n",
      "  5 | State: (14, 20) | Velocity: (4, 3)   | Action: (0, 1)  \n",
      "  6 | State: (18, 24) | Velocity: (4, 4)   | Action: (-1, 0) \n",
      "  7 | State: (21, 28) | Velocity: (3, 4)   | Action: (0, 0)  \n",
      "  8 | State: (24, 32)\n",
      "\n",
      "SUCCESS: The car has crossed the finish line in 8 steps!\n",
      "\n",
      "\n",
      "Generating a path from state (0, 12)...\n",
      "  0 | State: (0, 12)  | Velocity: (0, 0)   | Action: (1, 1)  \n",
      "  1 | State: (1, 13)  | Velocity: (1, 1)   | Action: (1, 0)  \n",
      "  2 | State: (3, 14)  | Velocity: (2, 1)   | Action: (1, 1)  \n",
      "  3 | State: (6, 16)  | Velocity: (3, 2)   | Action: (1, 0)  \n",
      "  4 | State: (10, 18) | Velocity: (4, 2)   | Action: (0, 1)  \n",
      "  5 | State: (14, 21) | Velocity: (4, 3)   | Action: (0, 1)  \n",
      "  6 | State: (18, 25) | Velocity: (4, 4)   | Action: (0, 0)  \n",
      "  7 | State: (22, 29) | Velocity: (4, 4)   | Action: (0, -1) \n",
      "  8 | State: (26, 32)\n",
      "\n",
      "SUCCESS: The car has crossed the finish line in 8 steps!\n",
      "\n",
      "\n",
      "Generating a path from state (0, 13)...\n",
      "  0 | State: (0, 13)  | Velocity: (0, 0)   | Action: (1, 1)  \n",
      "  1 | State: (1, 14)  | Velocity: (1, 1)   | Action: (1, 0)  \n",
      "  2 | State: (3, 15)  | Velocity: (2, 1)   | Action: (1, 0)  \n",
      "  3 | State: (6, 16)  | Velocity: (3, 1)   | Action: (1, 1)  \n",
      "  4 | State: (10, 18) | Velocity: (4, 2)   | Action: (0, 1)  \n",
      "  5 | State: (14, 21) | Velocity: (4, 3)   | Action: (0, 1)  \n",
      "  6 | State: (18, 25) | Velocity: (4, 4)   | Action: (0, 0)  \n",
      "  7 | State: (22, 29) | Velocity: (4, 4)   | Action: (0, -1) \n",
      "  8 | State: (26, 32)\n",
      "\n",
      "SUCCESS: The car has crossed the finish line in 8 steps!\n",
      "\n",
      "\n",
      "Generating a path from state (0, 14)...\n",
      "  0 | State: (0, 14)  | Velocity: (0, 0)   | Action: (1, 0)  \n",
      "  1 | State: (1, 14)  | Velocity: (1, 0)   | Action: (1, 1)  \n",
      "  2 | State: (3, 15)  | Velocity: (2, 1)   | Action: (1, 0)  \n",
      "  3 | State: (6, 16)  | Velocity: (3, 1)   | Action: (1, 1)  \n",
      "  4 | State: (10, 18) | Velocity: (4, 2)   | Action: (0, 1)  \n",
      "  5 | State: (14, 21) | Velocity: (4, 3)   | Action: (0, 1)  \n",
      "  6 | State: (18, 25) | Velocity: (4, 4)   | Action: (0, 0)  \n",
      "  7 | State: (22, 29) | Velocity: (4, 4)   | Action: (0, -1) \n",
      "  8 | State: (26, 32)\n",
      "\n",
      "SUCCESS: The car has crossed the finish line in 8 steps!\n",
      "\n",
      "\n",
      "Generating a path from state (0, 15)...\n",
      "  0 | State: (0, 15)  | Velocity: (0, 0)   | Action: (1, 0)  \n",
      "  1 | State: (1, 15)  | Velocity: (1, 0)   | Action: (1, 0)  \n",
      "  2 | State: (3, 15)  | Velocity: (2, 0)   | Action: (1, 1)  \n",
      "  3 | State: (6, 16)  | Velocity: (3, 1)   | Action: (1, 1)  \n",
      "  4 | State: (10, 18) | Velocity: (4, 2)   | Action: (0, 1)  \n",
      "  5 | State: (14, 21) | Velocity: (4, 3)   | Action: (0, 1)  \n",
      "  6 | State: (18, 25) | Velocity: (4, 4)   | Action: (0, 0)  \n",
      "  7 | State: (22, 29) | Velocity: (4, 4)   | Action: (0, -1) \n",
      "  8 | State: (26, 32)\n",
      "\n",
      "SUCCESS: The car has crossed the finish line in 8 steps!\n",
      "\n",
      "\n",
      "Generating a path from state (0, 16)...\n",
      "  0 | State: (0, 16)  | Velocity: (0, 0)   | Action: (1, -1) \n",
      "  1 | State: (1, 15)  | Velocity: (1, -1)  | Action: (1, 1)  \n",
      "  2 | State: (3, 15)  | Velocity: (2, 0)   | Action: (1, 1)  \n",
      "  3 | State: (6, 16)  | Velocity: (3, 1)   | Action: (1, 1)  \n",
      "  4 | State: (10, 18) | Velocity: (4, 2)   | Action: (0, 1)  \n",
      "  5 | State: (14, 21) | Velocity: (4, 3)   | Action: (0, 1)  \n",
      "  6 | State: (18, 25) | Velocity: (4, 4)   | Action: (0, 0)  \n",
      "  7 | State: (22, 29) | Velocity: (4, 4)   | Action: (0, -1) \n",
      "  8 | State: (26, 32)\n",
      "\n",
      "SUCCESS: The car has crossed the finish line in 8 steps!\n",
      "\n",
      "\n",
      "Generating a path from state (0, 17)...\n",
      "  0 | State: (0, 17)  | Velocity: (0, 0)   | Action: (1, 0)  \n",
      "  1 | State: (1, 17)  | Velocity: (1, 0)   | Action: (1, 0)  \n",
      "  2 | State: (3, 17)  | Velocity: (2, 0)   | Action: (1, 1)  \n",
      "  3 | State: (6, 18)  | Velocity: (3, 1)   | Action: (1, 0)  \n",
      "  4 | State: (10, 19) | Velocity: (4, 1)   | Action: (0, 1)  \n",
      "  5 | State: (14, 21) | Velocity: (4, 2)   | Action: (0, 1)  \n",
      "  6 | State: (18, 24) | Velocity: (4, 3)   | Action: (-1, 1) \n",
      "  7 | State: (21, 28) | Velocity: (3, 4)   | Action: (0, 0)  \n",
      "  8 | State: (24, 32)\n",
      "\n",
      "SUCCESS: The car has crossed the finish line in 8 steps!\n",
      "\n",
      "\n",
      "Generating a path from state (0, 18)...\n",
      "  0 | State: (0, 18)  | Velocity: (0, 0)   | Action: (1, 0)  \n",
      "  1 | State: (1, 18)  | Velocity: (1, 0)   | Action: (1, 0)  \n",
      "  2 | State: (3, 18)  | Velocity: (2, 0)   | Action: (1, 1)  \n",
      "  3 | State: (6, 19)  | Velocity: (3, 1)   | Action: (1, 0)  \n",
      "  4 | State: (10, 20) | Velocity: (4, 1)   | Action: (0, 1)  \n",
      "  5 | State: (14, 22) | Velocity: (4, 2)   | Action: (0, 1)  \n",
      "  6 | State: (18, 25) | Velocity: (4, 3)   | Action: (0, 1)  \n",
      "  7 | State: (22, 29) | Velocity: (4, 4)   | Action: (0, -1) \n",
      "  8 | State: (26, 32)\n",
      "\n",
      "SUCCESS: The car has crossed the finish line in 8 steps!\n",
      "\n",
      "\n",
      "Generating a path from state (0, 19)...\n",
      "  0 | State: (0, 19)  | Velocity: (0, 0)   | Action: (1, -1) \n",
      "  1 | State: (1, 18)  | Velocity: (1, -1)  | Action: (1, 1)  \n",
      "  2 | State: (3, 18)  | Velocity: (2, 0)   | Action: (1, 1)  \n",
      "  3 | State: (6, 19)  | Velocity: (3, 1)   | Action: (1, 0)  \n",
      "  4 | State: (10, 20) | Velocity: (4, 1)   | Action: (0, 1)  \n",
      "  5 | State: (14, 22) | Velocity: (4, 2)   | Action: (0, 1)  \n",
      "  6 | State: (18, 25) | Velocity: (4, 3)   | Action: (0, 1)  \n",
      "  7 | State: (22, 29) | Velocity: (4, 4)   | Action: (0, -1) \n",
      "  8 | State: (26, 32)\n",
      "\n",
      "SUCCESS: The car has crossed the finish line in 8 steps!\n",
      "\n",
      "\n",
      "Generating a path from state (0, 20)...\n",
      "  0 | State: (0, 20)  | Velocity: (0, 0)   | Action: (1, -1) \n",
      "  1 | State: (1, 19)  | Velocity: (1, -1)  | Action: (1, 1)  \n",
      "  2 | State: (3, 19)  | Velocity: (2, 0)   | Action: (1, 0)  \n",
      "  3 | State: (6, 19)  | Velocity: (3, 0)   | Action: (1, 1)  \n",
      "  4 | State: (10, 20) | Velocity: (4, 1)   | Action: (0, 1)  \n",
      "  5 | State: (14, 22) | Velocity: (4, 2)   | Action: (0, 1)  \n",
      "  6 | State: (18, 25) | Velocity: (4, 3)   | Action: (0, 1)  \n",
      "  7 | State: (22, 29) | Velocity: (4, 4)   | Action: (0, -1) \n",
      "  8 | State: (26, 32)\n",
      "\n",
      "SUCCESS: The car has crossed the finish line in 8 steps!\n",
      "\n",
      "\n",
      "Generating a path from state (0, 21)...\n",
      "  0 | State: (0, 21)  | Velocity: (0, 0)   | Action: (1, -1) \n",
      "  1 | State: (1, 20)  | Velocity: (1, -1)  | Action: (1, 0)  \n",
      "  2 | State: (3, 19)  | Velocity: (2, -1)  | Action: (1, 1)  \n",
      "  3 | State: (6, 19)  | Velocity: (3, 0)   | Action: (1, 1)  \n",
      "  4 | State: (10, 20) | Velocity: (4, 1)   | Action: (0, 1)  \n",
      "  5 | State: (14, 22) | Velocity: (4, 2)   | Action: (0, 1)  \n",
      "  6 | State: (18, 25) | Velocity: (4, 3)   | Action: (0, 1)  \n",
      "  7 | State: (22, 29) | Velocity: (4, 4)   | Action: (0, -1) \n",
      "  8 | State: (26, 32)\n",
      "\n",
      "SUCCESS: The car has crossed the finish line in 8 steps!\n",
      "\n",
      "\n",
      "Generating a path from state (0, 22)...\n",
      "  0 | State: (0, 22)  | Velocity: (0, 0)   | Action: (1, -1) \n",
      "  1 | State: (1, 21)  | Velocity: (1, -1)  | Action: (1, 1)  \n",
      "  2 | State: (3, 21)  | Velocity: (2, 0)   | Action: (1, 0)  \n",
      "  3 | State: (6, 21)  | Velocity: (3, 0)   | Action: (1, 0)  \n",
      "  4 | State: (10, 21) | Velocity: (4, 0)   | Action: (0, 1)  \n",
      "  5 | State: (14, 22) | Velocity: (4, 1)   | Action: (0, 1)  \n",
      "  6 | State: (18, 24) | Velocity: (4, 2)   | Action: (-1, 1) \n",
      "  7 | State: (21, 27) | Velocity: (3, 3)   | Action: (0, 1)  \n",
      "  8 | State: (24, 31) | Velocity: (3, 4)   | Action: (0, 0)  \n",
      "  9 | State: (27, 35)\n",
      "\n",
      "SUCCESS: The car has crossed the finish line in 9 steps!\n",
      "\n",
      "\n"
     ]
    },
    {
     "data": {
      "text/plain": [
       "True"
      ]
     },
     "execution_count": 31,
     "metadata": {},
     "output_type": "execute_result"
    }
   ],
   "source": [
    "generate_all_paths(m2_on)"
   ]
  },
  {
   "cell_type": "markdown",
   "metadata": {},
   "source": [
    "#### Off-policy prediction"
   ]
  },
  {
   "cell_type": "code",
   "execution_count": null,
   "metadata": {},
   "outputs": [],
   "source": [
    "# m2_off_pred = initialize(m2)"
   ]
  },
  {
   "cell_type": "code",
   "execution_count": null,
   "metadata": {},
   "outputs": [],
   "source": [
    "# m2_off_pred = iterate(m2_off_pred, 'off_pred', same_start=True)"
   ]
  },
  {
   "cell_type": "markdown",
   "metadata": {},
   "source": [
    "#### Off-policy control (State, Velocity $\\rightarrow$ Action)"
   ]
  },
  {
   "cell_type": "code",
   "execution_count": null,
   "metadata": {},
   "outputs": [],
   "source": [
    "# m2_off_control_sv = initialize(m2)"
   ]
  },
  {
   "cell_type": "code",
   "execution_count": null,
   "metadata": {},
   "outputs": [],
   "source": [
    "# m2_off_control_sv = iterate(m2_off_control_sv, 'off_control', same_start=True)"
   ]
  },
  {
   "cell_type": "code",
   "execution_count": null,
   "metadata": {},
   "outputs": [],
   "source": [
    "# generate_all_paths(m2_off_control_sv)"
   ]
  }
 ],
 "metadata": {
  "kernelspec": {
   "display_name": "Python 3",
   "language": "python",
   "name": "python3"
  },
  "language_info": {
   "codemirror_mode": {
    "name": "ipython",
    "version": 3
   },
   "file_extension": ".py",
   "mimetype": "text/x-python",
   "name": "python",
   "nbconvert_exporter": "python",
   "pygments_lexer": "ipython3",
   "version": "3.7.3"
  }
 },
 "nbformat": 4,
 "nbformat_minor": 2
}
