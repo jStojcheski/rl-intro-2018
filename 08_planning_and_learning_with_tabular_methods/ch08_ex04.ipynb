{
 "cells": [
  {
   "cell_type": "markdown",
   "metadata": {},
   "source": [
    "# Exercise 8.4\n",
    "\n",
    "<p style=\"text-align: justify;\">\n",
    "The exploration bonus actually changes the estimated values of states and actions. Is this necessary? Suppose the bonus $\\kappa \\sqrt{\\tau}$ was used not in updates, but solely in action selection. That is, suppose the action selected was always that for which $Q(S_{t}, a) + \\kappa \\sqrt{\\tau(S_{t}, a)}$ was maximal. Carry out a gridworld experiment that tests and illustrates the strengths and weaknesses of this alternate approach.\n",
    "</p>"
   ]
  },
  {
   "cell_type": "code",
   "execution_count": 1,
   "metadata": {},
   "outputs": [],
   "source": [
    "import matplotlib.pyplot as plt\n",
    "import numpy as np\n",
    "import random\n",
    "\n",
    "from IPython.display import Image\n",
    "from pprint import pprint\n",
    "from tqdm import tqdm\n",
    "\n",
    "%matplotlib inline"
   ]
  },
  {
   "cell_type": "markdown",
   "metadata": {},
   "source": [
    "### General Settings"
   ]
  },
  {
   "cell_type": "code",
   "execution_count": 2,
   "metadata": {},
   "outputs": [],
   "source": [
    "MAZE_ROWS = 6\n",
    "MAZE_COLS = 9\n",
    "\n",
    "ALPHA   = 1.00  # 0.10\n",
    "EPSILON = 0.10 \n",
    "GAMMA   = 0.95 \n",
    "KAPPA   = 0.00 \n",
    "\n",
    "N    = 5\n",
    "RUNS = 100  # 10\n",
    "\n",
    "ALL_STATES = {\n",
    "    (row, col)\n",
    "    for row in range(MAZE_ROWS)\n",
    "    for col in range(MAZE_COLS)\n",
    "}\n",
    "\n",
    "ALL_ACTIONS = {\n",
    "    (-1,  0),  # Down\n",
    "    ( 0, -1),  # Left\n",
    "    ( 0,  1),  # Right\n",
    "    ( 1,  0),  # Up\n",
    "#     (-1, -1),  # Down-left\n",
    "#     (-1,  1),  # Down-right\n",
    "#     ( 1, -1),  # Up-left\n",
    "#     ( 1,  1)   # Up-right\n",
    "}\n",
    "\n",
    "START_STATES = {\n",
    "    (0, 3)\n",
    "}\n",
    "\n",
    "GOAL_STATES = {\n",
    "    (5, 8)\n",
    "}\n",
    "\n",
    "WALL_STATES = {\n",
    "    (2, y) for y in range(1, 8)\n",
    "}\n",
    "\n",
    "MODEL_TYPES = [\n",
    "    'Dyna-Q',\n",
    "    'Dyna-Q+',\n",
    "    'Dyna-Q+ modified'\n",
    "]\n",
    "\n",
    "# Initialize rewards\n",
    "R = {\n",
    "    state: 0\n",
    "    for state in ALL_STATES\n",
    "}\n",
    "\n",
    "for state in GOAL_STATES:\n",
    "    R[state] = 1"
   ]
  },
  {
   "cell_type": "markdown",
   "metadata": {},
   "source": [
    "### Functions"
   ]
  },
  {
   "cell_type": "code",
   "execution_count": 3,
   "metadata": {},
   "outputs": [],
   "source": [
    "def get_best_action(Q_s, t=0, T_s=None):\n",
    "    best_value = -np.inf\n",
    "    best_actions = []\n",
    "    \n",
    "    for a in Q_s.keys():\n",
    "        action_value = Q_s[a]\n",
    "        \n",
    "        if T_s is not None:\n",
    "            action_value += KAPPA * np.sqrt(t - T_s[a])\n",
    "\n",
    "        if best_value < action_value:\n",
    "            best_value = action_value\n",
    "            best_actions = [a]\n",
    "        elif best_value == action_value:\n",
    "            best_actions += [a]\n",
    "            \n",
    "    return random.choice(best_actions)"
   ]
  },
  {
   "cell_type": "code",
   "execution_count": 4,
   "metadata": {},
   "outputs": [],
   "source": [
    "def get_rts(mazes):\n",
    "    return {\n",
    "        model: np.vstack([maze['Rt'].cumsum()\n",
    "                          for maze in mazes[model]]).mean(axis=0)\n",
    "        for model in MODEL_TYPES\n",
    "    }"
   ]
  },
  {
   "cell_type": "code",
   "execution_count": 5,
   "metadata": {},
   "outputs": [],
   "source": [
    "def plot_models(mazes):\n",
    "    Rts = get_rts(mazes)\n",
    "    \n",
    "    max_value = np.hstack([Rts[model]\n",
    "                           for model in MODEL_TYPES]).max()\n",
    "    \n",
    "#     pprint(Rts)\n",
    "    \n",
    "    plt.figure(figsize=(9, 6))\n",
    "    for model in MODEL_TYPES:\n",
    "        plt.plot(Rts[model])\n",
    "    plt.vlines(CHANGE_STATE, ymin=0, ymax=max_value,\n",
    "               colors='gray', linestyles='dashed')\n",
    "    plt.legend(MODEL_TYPES)\n",
    "    plt.show()\n",
    "    \n",
    "    return"
   ]
  },
  {
   "cell_type": "code",
   "execution_count": 6,
   "metadata": {},
   "outputs": [],
   "source": [
    "def initialize():\n",
    "    M = dict()  # Model\n",
    "    Q = dict()  # State-Action value\n",
    "    T = dict()  # Timestamps\n",
    "    \n",
    "    for s in ALL_STATES:\n",
    "        Q.setdefault(s, dict())\n",
    "        T.setdefault(s, dict())\n",
    "        \n",
    "        for a in ALL_ACTIONS:\n",
    "            # Initialize state-action values\n",
    "            Q[s][a] = 0\n",
    "            \n",
    "            # Initialize timestamps\n",
    "            T[s][a] = 0\n",
    "\n",
    "    return {\n",
    "        'M': M,\n",
    "        'Q': Q,\n",
    "        'T': T,\n",
    "        'Rt': np.zeros(0)  # Rewards per time step\n",
    "    }"
   ]
  },
  {
   "cell_type": "code",
   "execution_count": 7,
   "metadata": {},
   "outputs": [],
   "source": [
    "def iterate(maze, model, change_time, total_iters, n=N):\n",
    "    \"\"\"\n",
    "    model: {'Dyna-Q', 'Dyna-Q+', 'Dyna-Q+ modified'}\n",
    "    iters_1: number of iterations in the \"1st\" part of the experiment\n",
    "    iters_2: number of iterations in the \"2nd\" part of the experiment\n",
    "    \"\"\"\n",
    "    if model not in MODEL_TYPES:\n",
    "        print(f'ERROR: Model type \\'{model}\\' unknown!')\n",
    "        return maze\n",
    "    \n",
    "    # Load varialbes\n",
    "    M = maze['M']\n",
    "    Q = maze['Q']\n",
    "    T = maze['T']\n",
    "    \n",
    "    # Create new array of rewards per time step\n",
    "    Rt = np.zeros(total_iters)\n",
    "    \n",
    "    WALL = WALL_BEFORE\n",
    "    \n",
    "    # Initialize start state\n",
    "    s = random.choice(list(START_STATES))\n",
    "\n",
    "    for t in range(total_iters):\n",
    "        \n",
    "        # Choose an action\n",
    "        a = get_best_action(Q[s])\n",
    "        if model == 'Dyna-Q+ modified':\n",
    "            a = get_best_action(Q[s], t, T[s])\n",
    "        elif np.random.uniform(low=0.0, high=1.0) < EPSILON:\n",
    "            a = random.choice(list(ALL_ACTIONS))\n",
    "        \n",
    "        # Take the chosen action\n",
    "        s_ = (s[0] + a[0], s[1] + a[1])\n",
    "\n",
    "        # If out of bounds or hit a wall, stay in the same state\n",
    "        if s_ not in ALL_STATES or s_ in WALL:\n",
    "            s_ = s\n",
    "\n",
    "        # Get a reward for the latest transition\n",
    "        r = R[s_]\n",
    "        Rt[t] = r\n",
    "\n",
    "        # Update state-action value\n",
    "        a_ = get_best_action(Q[s_])\n",
    "        if model == 'Dyna-Q+ modified':\n",
    "            a_ = get_best_action(Q[s_], t, T[s_])\n",
    "\n",
    "        Q[s][a] += ALPHA * (r + GAMMA * Q[s_][a_] - Q[s][a])\n",
    "\n",
    "        # Initialize state in the environment model\n",
    "        if model == 'Dyna-Q':\n",
    "            M.setdefault(s, dict())\n",
    "        else:  # if model in {'Dyna-Q+', 'Dyna-Q+ modified'}\n",
    "            if s not in M.keys():\n",
    "                M[s] = dict()\n",
    "                for a_ in ALL_ACTIONS:\n",
    "                    M[s][a_] = (0, s)\n",
    "                    T[s][a_] = 0\n",
    "                \n",
    "        # Store reward and new state in the model\n",
    "        M[s][a] = (r, s_)\n",
    "        \n",
    "        # Update timestamp for the current state-action pair\n",
    "        T[s][a] = t\n",
    "\n",
    "        # Store next state\n",
    "        next_s = s_\n",
    "            \n",
    "        # Planning\n",
    "        for _ in range(n):\n",
    "            \n",
    "            # Pick a previously observed state\n",
    "            s = random.choice(list(M.keys()))\n",
    "            a = random.choice(list(M[s].keys()))\n",
    "            r, s_ = M[s][a]\n",
    "\n",
    "            # Update state-action value\n",
    "            a_ = get_best_action(Q[s_])\n",
    "\n",
    "            if model == 'Dyna-Q+':\n",
    "                r += KAPPA * np.sqrt(t - T[s][a])\n",
    "            if model == 'Dyna-Q+ modified':\n",
    "                a_ = get_best_action(Q[s_], t, T[s_])\n",
    "\n",
    "            Q[s][a] += ALPHA * (r + GAMMA * Q[s_][a_] - Q[s][a])\n",
    "            \n",
    "        # Make the next state a current state\n",
    "        s = next_s\n",
    "        \n",
    "        # If a goal state has been reached\n",
    "        if s in GOAL_STATES:\n",
    "            \n",
    "            # Start anew\n",
    "            s = random.choice(list(START_STATES))\n",
    "            \n",
    "            # Change wall settings at beginning of a new episode\n",
    "            if t >= change_time:\n",
    "                WALL = WALL_AFTER\n",
    "\n",
    "        \n",
    "    return {\n",
    "        'M': M,\n",
    "        'Q': Q,\n",
    "        'T': T,\n",
    "        'Rt': np.hstack([maze['Rt'], Rt])\n",
    "    }"
   ]
  },
  {
   "cell_type": "code",
   "execution_count": 8,
   "metadata": {},
   "outputs": [],
   "source": [
    "def run():\n",
    "    mazes = dict()\n",
    "\n",
    "    for model in MODEL_TYPES:\n",
    "        mazes[model] = []\n",
    "\n",
    "        for _ in tqdm(range(RUNS)):\n",
    "            maze = initialize()\n",
    "            maze = iterate(maze, model, CHANGE_STATE, TOTAL_STATES)\n",
    "\n",
    "            mazes[model] += [maze]\n",
    "\n",
    "    plot_models(mazes)\n",
    "    \n",
    "    return mazes"
   ]
  },
  {
   "cell_type": "markdown",
   "metadata": {},
   "source": [
    "## Example 8.2: Blocking Maze\n",
    "\n",
    "<p style=\"text-align: justify;\">\n",
    "Initially, there is a short path from start to goal, to the right of the barrier, as shown in the upper left of the figure. After 1000 time steps, the short path is “blocked,” and a longer path is opened up along the left-hand side of the barrier, as shown in upper right of the figure. The graph shows average cumulative reward for a Dyna-Q agent and an enhanced Dyna-Q+ agent. When the environment changed, the graphs become flat, indicating a period during which the agents obtained no reward because they were wandering around behind the barrier. After a while, however, they were able to find the new opening and the new optimal behavior.\n",
    "</p>    \n",
    "<p style=\"text-align: justify;\">\n",
    "Greater difficulties arise when the environment changes to become better than it was before, and yet the formerly correct policy does not reveal the improvement. In these cases the modeling error may not be detected for a long time, if ever.\n",
    "</p>    "
   ]
  },
  {
   "cell_type": "code",
   "execution_count": 9,
   "metadata": {},
   "outputs": [
    {
     "data": {
      "image/png": "[encoded data removed]",
      "text/plain": [
       "<IPython.core.display.Image object>"
      ]
     },
     "execution_count": 9,
     "metadata": {
      "image/png": {
       "width": 600
      }
     },
     "output_type": "execute_result"
    }
   ],
   "source": [
    "Image('ch08_ex04/example02.png', width=600)"
   ]
  },
  {
   "cell_type": "markdown",
   "metadata": {},
   "source": [
    "#### Iterate"
   ]
  },
  {
   "cell_type": "code",
   "execution_count": 10,
   "metadata": {
    "scrolled": false
   },
   "outputs": [
    {
     "name": "stderr",
     "output_type": "stream",
     "text": [
      "100%|██████████| 100/100 [00:12<00:00,  8.25it/s]\n",
      "100%|██████████| 100/100 [00:16<00:00,  5.90it/s]\n",
      "100%|██████████| 100/100 [00:27<00:00,  3.57it/s]\n"
     ]
    },
    {
     "data": {
      "image/png": "[encoded data removed]",
      "text/plain": [
       "<Figure size 648x432 with 1 Axes>"
      ]
     },
     "metadata": {
      "needs_background": "light"
     },
     "output_type": "display_data"
    }
   ],
   "source": [
    "WALL_BEFORE = WALL_STATES.union({(2, 0)})\n",
    "WALL_AFTER  = WALL_STATES.union({(2, 8)})\n",
    "\n",
    "CHANGE_STATE = 1000\n",
    "TOTAL_STATES = 3000\n",
    "\n",
    "KAPPA = 1e-4\n",
    "N     = 10\n",
    "\n",
    "m1 = run()"
   ]
  },
  {
   "cell_type": "markdown",
   "metadata": {},
   "source": [
    "## Example 8.3: Shortcut Maze\n",
    "\n",
    "<p style=\"text-align: justify;\">\n",
    "Initially, the optimal path is to go around the left side of the barrier (upper left). After 3000 steps, however, a shorter path is opened up along the right side, without disturbing the longer path (upper right). The graph shows that the regular Dyna-Q agent never switched to the shortcut. In fact, it never realized that it existed. Its model said that there was no shortcut, so the more it planned, the less likely it was to step to the right and discover it. Even with an $\\epsilon$-greedy policy, it is very unlikely that an agent will take so many exploratory actions as to discover the shortcut.\n",
    "</p>"
   ]
  },
  {
   "cell_type": "code",
   "execution_count": 11,
   "metadata": {},
   "outputs": [
    {
     "data": {
      "image/png": "[encoded data removed]",
      "text/plain": [
       "<IPython.core.display.Image object>"
      ]
     },
     "execution_count": 11,
     "metadata": {
      "image/png": {
       "width": 600
      }
     },
     "output_type": "execute_result"
    }
   ],
   "source": [
    "Image('ch08_ex04/example03.png', width=600)"
   ]
  },
  {
   "cell_type": "code",
   "execution_count": 12,
   "metadata": {
    "scrolled": false
   },
   "outputs": [
    {
     "name": "stderr",
     "output_type": "stream",
     "text": [
      "100%|██████████| 100/100 [00:24<00:00,  3.47it/s]\n",
      "100%|██████████| 100/100 [00:33<00:00,  3.29it/s]\n",
      "100%|██████████| 100/100 [00:55<00:00,  1.75it/s]\n"
     ]
    },
    {
     "data": {
      "image/png": "[encoded data removed]",
      "text/plain": [
       "<Figure size 648x432 with 1 Axes>"
      ]
     },
     "metadata": {
      "needs_background": "light"
     },
     "output_type": "display_data"
    }
   ],
   "source": [
    "WALL_BEFORE = WALL_STATES.union({(2, 8)})\n",
    "WALL_AFTER  = WALL_STATES\n",
    "\n",
    "CHANGE_STATE = 3000\n",
    "TOTAL_STATES = 6000\n",
    "\n",
    "KAPPA = 1e-3\n",
    "N     = 50\n",
    "\n",
    "m2 = run()"
   ]
  },
  {
   "cell_type": "markdown",
   "metadata": {},
   "source": [
    "## Conclusion"
   ]
  },
  {
   "cell_type": "markdown",
   "metadata": {},
   "source": [
    "<p style=\"text-align: justify;\">\n",
    "The modified Dyna-Q+ algorithm can exploit better once the optimal policy has been found, but it cannot adapt to environmental changes as fast as the Dyna-Q+ algorithm can.\n",
    "</p>"
   ]
  }
 ],
 "metadata": {
  "kernelspec": {
   "display_name": "Python 3",
   "language": "python",
   "name": "python3"
  },
  "language_info": {
   "codemirror_mode": {
    "name": "ipython",
    "version": 3
   },
   "file_extension": ".py",
   "mimetype": "text/x-python",
   "name": "python",
   "nbconvert_exporter": "python",
   "pygments_lexer": "ipython3",
   "version": "3.7.3"
  }
 },
 "nbformat": 4,
 "nbformat_minor": 2
}
