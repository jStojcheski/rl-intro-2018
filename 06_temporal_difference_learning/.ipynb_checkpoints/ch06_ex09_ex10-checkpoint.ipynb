{
 "cells": [
  {
   "cell_type": "markdown",
   "metadata": {},
   "source": [
    "### Example 6.5: Windy Gridworld\n",
    "\n",
    "<p style=\"text-align: justify;\">\n",
    "Shown inset below is a standard gridworld, with start and goal states, but with one difference: there is a crosswind running upward through the middle of the grid. The actions are the standard four—<code>up</code>, <code>down</code>, <code>right</code>, and <code>left</code>—but in the middle region the resultant next states are shifted upward by a “wind”, the strength of which varies from column to column. The strength of the wind is given below each column, in number of cells shifted upward. For example, if you are one cell to the right of the goal, then the action <code>left</code> takes you to the cell just above the goal. This is an undiscounted episodic task, with constant rewards of $-1$ until the goal state is reached.\n",
    "</p>"
   ]
  },
  {
   "cell_type": "code",
   "execution_count": 1,
   "metadata": {},
   "outputs": [
    {
     "data": {
      "image/png": "[encoded data removed]",
      "text/plain": [
       "<IPython.core.display.Image object>"
      ]
     },
     "execution_count": 1,
     "metadata": {},
     "output_type": "execute_result"
    }
   ],
   "source": [
    "from IPython.display import Image\n",
    "Image(\"ch06_ex09_ex10/gridworld.png\")"
   ]
  },
  {
   "cell_type": "code",
   "execution_count": 2,
   "metadata": {},
   "outputs": [],
   "source": [
    "import matplotlib.pyplot as plt\n",
    "import numpy as np\n",
    "import random\n",
    "import seaborn\n",
    "\n",
    "from pprint import pprint\n",
    "from tqdm import tqdm\n",
    "\n",
    "%matplotlib inline"
   ]
  },
  {
   "cell_type": "markdown",
   "metadata": {},
   "source": [
    "### Settings"
   ]
  },
  {
   "cell_type": "code",
   "execution_count": 3,
   "metadata": {},
   "outputs": [],
   "source": [
    "alpha   = 0.5  # \"learning rate\"\n",
    "epsilon = 0.1  # e-greedy probability\n",
    "gamma   = 1.0  # discount factor\n",
    "\n",
    "n_episodes = 500000  # total number of episodes\n",
    "\n",
    "movement_types = ['basic', 'king', 'king_0']\n",
    "wind_types = ['no', 'det', 'stoch']"
   ]
  },
  {
   "cell_type": "markdown",
   "metadata": {},
   "source": [
    "### Functions"
   ]
  },
  {
   "cell_type": "code",
   "execution_count": 30,
   "metadata": {},
   "outputs": [],
   "source": [
    "def create_path(world):\n",
    "    \n",
    "    all_states = world['all_states']\n",
    "    policy     = world['P']\n",
    "    \n",
    "    wind_cols   = world['wind_cols']\n",
    "    wind_change = world['wind_change']\n",
    "    wind_type   = world['wind_type']\n",
    "    \n",
    "    v_len = world['v_len']\n",
    "    h_len = world['h_len']\n",
    "    \n",
    "    start_states = world['start_states']\n",
    "    goal_states  = world['goal_states']\n",
    "    \n",
    "    v_len = world['v_len']\n",
    "    h_len = world['h_len']\n",
    "            \n",
    "    past_states = set()\n",
    "    state = random.choice(list(start_states))\n",
    "    \n",
    "    step = 0\n",
    "    \n",
    "    while True:\n",
    "        \n",
    "        if state not in all_states:\n",
    "            print('\\nERROR: Out of bounds!')\n",
    "            break\n",
    "            \n",
    "        if state in past_states and wind_type != 'stoch':\n",
    "            print('\\nFAILURE: Goal states cannot be reached!')\n",
    "            break\n",
    "            \n",
    "        if state in goal_states:\n",
    "            print(f'{step:>3d} | S: {state}')\n",
    "            print(f'\\nSUCCESS: Goal state {state} has been reached in {step} steps!')\n",
    "            break\n",
    "            \n",
    "        action = policy[state]\n",
    "        \n",
    "        # Generate wind\n",
    "        wind = wind_cols[state[1]]  # wind_type == 'det'\n",
    "\n",
    "        if wind_type == 'no':\n",
    "            wind = 0\n",
    "\n",
    "        if wind_type == 'stoch':\n",
    "            wind += random.choice(wind_change)\n",
    "\n",
    "        print(f'{step:>3d} | S: {state} | Wind: {wind} | A: {action}')\n",
    "        \n",
    "        past_states.add(state)\n",
    "        next_v = max(0, min(v_len-1, state[0] + action[0] + wind))\n",
    "        next_h = max(0, min(h_len-1, state[1] + action[1]))\n",
    "        state = (next_v, next_h)\n",
    "        \n",
    "        step += 1\n",
    "        \n",
    "    return"
   ]
  },
  {
   "cell_type": "code",
   "execution_count": 5,
   "metadata": {},
   "outputs": [],
   "source": [
    "def get_best_action(q):\n",
    "    best_value = -np.inf\n",
    "    best_action = None\n",
    "    \n",
    "    for action in q.keys():\n",
    "        if best_value < q[action]:\n",
    "            best_value = q[action]\n",
    "            best_action = action\n",
    "            \n",
    "    return best_action"
   ]
  },
  {
   "cell_type": "code",
   "execution_count": 6,
   "metadata": {},
   "outputs": [],
   "source": [
    "def get_neighborhood(states):\n",
    "    return{\n",
    "        (state[0] + v_change, state[1] + h_change)\n",
    "        for state in states\n",
    "        for v_change in [-1, 0, 1]\n",
    "        for h_change in [-1, 0, 1]\n",
    "    }"
   ]
  },
  {
   "cell_type": "code",
   "execution_count": 7,
   "metadata": {},
   "outputs": [],
   "source": [
    "def print_policy(mp):\n",
    "    for state in sorted(mp['all_states']):\n",
    "        print(state, mp['P'][state], get_best_action(mp['Q'][state]))\n",
    "        pprint(mp['Q'][state])\n",
    "        print()\n",
    "    return"
   ]
  },
  {
   "cell_type": "markdown",
   "metadata": {},
   "source": [
    "### Algorithms"
   ]
  },
  {
   "cell_type": "code",
   "execution_count": 10,
   "metadata": {},
   "outputs": [],
   "source": [
    "def initialize(movement_type):\n",
    "    \"\"\"\n",
    "    movement_type = {\n",
    "        'basic': 4 lateral directions\n",
    "        'king': 8 directions (4 lateral + 4 diagonal)\n",
    "        'king_0': 8 directions + no movement\n",
    "    }\n",
    "    \"\"\"\n",
    "    \n",
    "    if movement_type not in movement_types:\n",
    "        print(f'Movement type {movement_type} not known!')\n",
    "        return None\n",
    "    \n",
    "    v_len, h_len = 7, 10\n",
    "    \n",
    "    # Actions\n",
    "    all_actions = {\n",
    "        ( 1,  0),  # up\n",
    "        (-1,  0),  # down\n",
    "        ( 0,  1),  # right\n",
    "        ( 0, -1)   # left\n",
    "    }\n",
    "    \n",
    "    if movement_type in {'king', 'king_0'}:\n",
    "        all_actions = all_actions.union({\n",
    "            ( 1, -1),  # up-left\n",
    "            ( 1,  1),  # up-right\n",
    "            (-1, -1),  # down-left\n",
    "            (-1,  1)   # down-right\n",
    "        })\n",
    "        \n",
    "        if movement_type == 'king_0':\n",
    "            all_actions.add(\n",
    "                (0, 0)  # no movement\n",
    "            )\n",
    "    \n",
    "    # States\n",
    "    all_states = {\n",
    "        (v, h)\n",
    "        for v in range(v_len)\n",
    "        for h in range(h_len)\n",
    "    }\n",
    "    \n",
    "    start_states = {\n",
    "        (3, 0)\n",
    "    }\n",
    "    \n",
    "    goal_states  = {\n",
    "        (3, 7)\n",
    "    }\n",
    "    \n",
    "    # Wind\n",
    "    wind_cols = [0, 0, 0, 1, 1, 1, 2, 2, 1, 0]\n",
    "    wind_change = [-1, 0, 1]\n",
    "    \n",
    "    # Variables\n",
    "    P = dict()  # policy\n",
    "    Q = dict()  # state-action values\n",
    "    R = dict()  # rewards\n",
    "    \n",
    "    for state in all_states:\n",
    "        \n",
    "        # Initialize dicts of Q\n",
    "        Q.setdefault(state, dict())\n",
    "        \n",
    "        # Initialize rewards\n",
    "        R[state] = -1\n",
    "        \n",
    "        for action in all_actions:\n",
    "            \n",
    "            # Initialize state-action values\n",
    "            Q[state][action] = np.random.normal()\n",
    "    \n",
    "        # Initialize policies\n",
    "        P[state] = get_best_action(Q[state])\n",
    "        \n",
    "    return {\n",
    "        'all_actions': all_actions,\n",
    "        'all_states': all_states,\n",
    "        'start_states': start_states,\n",
    "        'goal_states': goal_states,\n",
    "        'wind_cols': wind_cols,\n",
    "        'wind_change': wind_change,\n",
    "        'P': P,\n",
    "        'Q': Q,\n",
    "        'R': R,\n",
    "        'v_len': v_len,\n",
    "        'h_len': h_len,\n",
    "        'n_episode': 0,\n",
    "        'total_steps': list()\n",
    "    }"
   ]
  },
  {
   "cell_type": "code",
   "execution_count": 11,
   "metadata": {},
   "outputs": [],
   "source": [
    "def iterate(world, wind_type='det',\n",
    "            alpha=0.5, epsilon=0.1, gamma=1.0, n_episodes=1000):\n",
    "    \"\"\"\n",
    "    wind_type = {\n",
    "        'no': no wind at all\n",
    "        'det': deterministic (as in the original problem)\n",
    "        'stoch': stochastic (as in Exercise )\n",
    "    }\n",
    "    \"\"\"\n",
    "    \n",
    "    if wind_type not in wind_types:\n",
    "        print(f'Wind type {wind_type} not known!')\n",
    "        return world\n",
    "    \n",
    "    # Load constants\n",
    "    all_actions = world['all_actions']\n",
    "    all_states = world['all_states']\n",
    "    \n",
    "    start_states = world['start_states']\n",
    "    goal_states = world['goal_states']\n",
    "    \n",
    "    v_len = world['v_len']\n",
    "    h_len = world['h_len']\n",
    "    \n",
    "    wind_cols = world['wind_cols']\n",
    "    wind_change = world['wind_change']\n",
    "    \n",
    "    # Load variables\n",
    "    P = world['P']\n",
    "    Q = world['Q']\n",
    "    R = world['R']\n",
    "    \n",
    "    n_episode = world['n_episode']\n",
    "    total_steps = world['total_steps']\n",
    "    \n",
    "    for state in goal_states:\n",
    "        for action in all_actions:\n",
    "            Q[state][action] = 0\n",
    "    \n",
    "#     goal_neighbors = get_neighborhood(goal_states)\n",
    "#     print(f'Goal neighbor states:\\n{goal_neighbors}\\n')\n",
    "    \n",
    "    # Iterate\n",
    "    for i in tqdm(range(n_episodes)):\n",
    "\n",
    "        # Initialize start state\n",
    "        state = random.choice(list(start_states))  # s[0]\n",
    "\n",
    "        # Choose an action from this state using policy derived from Q (e-greedy)\n",
    "        action = P[state]\n",
    "        if np.random.uniform() < epsilon:\n",
    "            action = random.choice(list(all_actions))\n",
    "\n",
    "        # Initialize number of steps\n",
    "        n_steps = 1\n",
    "        \n",
    "        while state not in goal_states:\n",
    "            \n",
    "#             if state in goal_neighbors:\n",
    "#                 print(f'Episode {i+1 + n_episode:>7d} | {n_steps:>7d} steps:', state)\n",
    "\n",
    "            # Generate wind\n",
    "            wind = wind_cols[state[1]]  # wind_type == 'det'\n",
    "        \n",
    "            if wind_type == 'no':\n",
    "                wind = 0\n",
    "            \n",
    "            if wind_type == 'stoch':\n",
    "                wind += random.choice(wind_change)\n",
    "\n",
    "            # Make that action\n",
    "            next_v = max(0, min(v_len-1, state[0] + action[0] + wind))\n",
    "            next_h = max(0, min(h_len-1, state[1] + action[1]))\n",
    "            next_state = (next_v, next_h)\n",
    "        \n",
    "            # Choose an action from the new state (e-greedy)\n",
    "            next_action = P[next_state]\n",
    "            if np.random.uniform() < epsilon:\n",
    "                next_action = random.choice(list(all_actions))\n",
    "\n",
    "            # Update state-action values\n",
    "            Q[state][action] += alpha * (R[next_state] + \n",
    "                                         gamma * Q[next_state][next_action] - \n",
    "                                         Q[state][action])\n",
    "            \n",
    "            # Update policy\n",
    "            P[state] = get_best_action(Q[state])\n",
    "            \n",
    "            # Move towards new state\n",
    "            state = next_state\n",
    "            action = next_action\n",
    "            \n",
    "            # Update step counter\n",
    "            n_steps += 1\n",
    "            \n",
    "#         print(f'Episode {i+1 + n_episode:>9d} | {n_steps:>9d} steps:', state)\n",
    "        total_steps.append(n_steps)\n",
    "\n",
    "    return {\n",
    "        'all_actions': all_actions,\n",
    "        'all_states': all_states,\n",
    "        'start_states': start_states,\n",
    "        'goal_states': goal_states,\n",
    "        'wind_cols': wind_cols,\n",
    "        'wind_change': wind_change,\n",
    "        'P': P,\n",
    "        'Q': Q,\n",
    "        'R': R,\n",
    "        'v_len': v_len,\n",
    "        'h_len': h_len,\n",
    "        'n_episode': n_episode + n_episodes,\n",
    "        'total_steps': total_steps,\n",
    "        'wind_type': wind_type\n",
    "    }"
   ]
  },
  {
   "cell_type": "markdown",
   "metadata": {},
   "source": [
    "<hr style=\"height: 1px;\">"
   ]
  },
  {
   "cell_type": "markdown",
   "metadata": {},
   "source": [
    "#### Basic movements"
   ]
  },
  {
   "cell_type": "code",
   "execution_count": 12,
   "metadata": {},
   "outputs": [],
   "source": [
    "basic_world = initialize(movement_type='basic')"
   ]
  },
  {
   "cell_type": "code",
   "execution_count": 13,
   "metadata": {},
   "outputs": [
    {
     "name": "stderr",
     "output_type": "stream",
     "text": [
      "100%|██████████| 500000/500000 [00:41<00:00, 12042.65it/s]\n"
     ]
    }
   ],
   "source": [
    "basic_world = iterate(basic_world, n_episodes=n_episodes,\n",
    "                      alpha=alpha, epsilon=epsilon, gamma=gamma)"
   ]
  },
  {
   "cell_type": "code",
   "execution_count": 31,
   "metadata": {},
   "outputs": [
    {
     "name": "stdout",
     "output_type": "stream",
     "text": [
      "  0 | S: (3, 0) | Wind: 0 | A: (0, 1)\n",
      "  1 | S: (3, 1) | Wind: 0 | A: (0, 1)\n",
      "  2 | S: (3, 2) | Wind: 0 | A: (1, 0)\n",
      "  3 | S: (4, 2) | Wind: 0 | A: (0, 1)\n",
      "  4 | S: (4, 3) | Wind: 1 | A: (0, 1)\n",
      "  5 | S: (5, 4) | Wind: 1 | A: (0, 1)\n",
      "  6 | S: (6, 5) | Wind: 1 | A: (0, 1)\n",
      "  7 | S: (6, 6) | Wind: 2 | A: (0, 1)\n",
      "  8 | S: (6, 7) | Wind: 2 | A: (0, 1)\n",
      "  9 | S: (6, 8) | Wind: 1 | A: (0, 1)\n",
      " 10 | S: (6, 9) | Wind: 0 | A: (-1, 0)\n",
      " 11 | S: (5, 9) | Wind: 0 | A: (-1, 0)\n",
      " 12 | S: (4, 9) | Wind: 0 | A: (-1, 0)\n",
      " 13 | S: (3, 9) | Wind: 0 | A: (-1, 0)\n",
      " 14 | S: (2, 9) | Wind: 0 | A: (0, -1)\n",
      " 15 | S: (2, 8) | Wind: 1 | A: (0, -1)\n",
      " 16 | S: (3, 7)\n",
      "\n",
      "SUCCESS: Goal state (3, 7) has been reached in 16 steps!\n"
     ]
    }
   ],
   "source": [
    "create_path(basic_world)"
   ]
  },
  {
   "cell_type": "markdown",
   "metadata": {},
   "source": [
    "<hr style=\"height: 1px;\">"
   ]
  },
  {
   "cell_type": "markdown",
   "metadata": {},
   "source": [
    "# Exercise 6.9\n",
    "\n",
    "#### Windy Gridworld with King's Moves\n",
    "\n",
    "<p style=\"text-align: justify;\">\n",
    "Re-solve the windy gridworld assuming eight possible actions, including the diagonal moves, rather than the usual four. How much better can you do with the extra actions?\n",
    "</p>"
   ]
  },
  {
   "cell_type": "code",
   "execution_count": 15,
   "metadata": {},
   "outputs": [],
   "source": [
    "king_world = initialize(movement_type='king')"
   ]
  },
  {
   "cell_type": "code",
   "execution_count": 16,
   "metadata": {},
   "outputs": [
    {
     "name": "stderr",
     "output_type": "stream",
     "text": [
      "100%|██████████| 500000/500000 [00:26<00:00, 18910.55it/s]\n"
     ]
    }
   ],
   "source": [
    "king_world = iterate(king_world, n_episodes=n_episodes,\n",
    "                     alpha=alpha, epsilon=epsilon, gamma=gamma)"
   ]
  },
  {
   "cell_type": "code",
   "execution_count": 32,
   "metadata": {},
   "outputs": [
    {
     "name": "stdout",
     "output_type": "stream",
     "text": [
      "  0 | S: (3, 0) | Wind: 0 | A: (-1, 1)\n",
      "  1 | S: (2, 1) | Wind: 0 | A: (-1, 1)\n",
      "  2 | S: (1, 2) | Wind: 0 | A: (-1, 1)\n",
      "  3 | S: (0, 3) | Wind: 1 | A: (-1, 1)\n",
      "  4 | S: (0, 4) | Wind: 1 | A: (-1, 1)\n",
      "  5 | S: (0, 5) | Wind: 1 | A: (-1, 1)\n",
      "  6 | S: (0, 6) | Wind: 2 | A: (1, 1)\n",
      "  7 | S: (3, 7)\n",
      "\n",
      "SUCCESS: Goal state (3, 7) has been reached in 7 steps!\n"
     ]
    }
   ],
   "source": [
    "create_path(king_world)"
   ]
  },
  {
   "cell_type": "markdown",
   "metadata": {},
   "source": [
    "<hr style=\"height: 1px;\">"
   ]
  },
  {
   "cell_type": "markdown",
   "metadata": {},
   "source": [
    "#### King movements + no movement"
   ]
  },
  {
   "cell_type": "markdown",
   "metadata": {},
   "source": [
    "<p style=\"text-align: justify;\">\n",
    "Can you do even better by including a ninth action that causes no movement at all other than that caused by the wind?\n",
    "</p>"
   ]
  },
  {
   "cell_type": "code",
   "execution_count": 18,
   "metadata": {},
   "outputs": [],
   "source": [
    "king_0_world = initialize(movement_type='king_0')"
   ]
  },
  {
   "cell_type": "code",
   "execution_count": 19,
   "metadata": {},
   "outputs": [
    {
     "name": "stderr",
     "output_type": "stream",
     "text": [
      "100%|██████████| 500000/500000 [00:26<00:00, 18741.88it/s]\n"
     ]
    }
   ],
   "source": [
    "king_0_world = iterate(king_0_world, n_episodes=n_episodes,\n",
    "                       alpha=alpha, epsilon=epsilon, gamma=gamma)"
   ]
  },
  {
   "cell_type": "code",
   "execution_count": 33,
   "metadata": {},
   "outputs": [
    {
     "name": "stdout",
     "output_type": "stream",
     "text": [
      "  0 | S: (3, 0) | Wind: 0 | A: (-1, 1)\n",
      "  1 | S: (2, 1) | Wind: 0 | A: (-1, 1)\n",
      "  2 | S: (1, 2) | Wind: 0 | A: (-1, 1)\n",
      "  3 | S: (0, 3) | Wind: 1 | A: (-1, 1)\n",
      "  4 | S: (0, 4) | Wind: 1 | A: (0, 1)\n",
      "  5 | S: (1, 5) | Wind: 1 | A: (-1, 1)\n",
      "  6 | S: (1, 6) | Wind: 2 | A: (0, 1)\n",
      "  7 | S: (3, 7)\n",
      "\n",
      "SUCCESS: Goal state (3, 7) has been reached in 7 steps!\n"
     ]
    }
   ],
   "source": [
    "create_path(king_0_world)"
   ]
  },
  {
   "cell_type": "markdown",
   "metadata": {},
   "source": [
    "# Exercise 6.10\n",
    "\n",
    "<p style=\"text-align: justify;\">\n",
    "Re-solve the windy gridworld task with King’s moves, assuming that the effect of the wind, if there is any, is stochastic, sometimes varying by $1$ from the mean values given for each column. That is, a third of the time you move exactly according to these values, as in the previous exercise, but also a third of the time you move one cell above that, and another third of the time you move one cell below that. For example, if you are one cell to the right of the goal and you move <code>left</code>, then one-third of the time you move one cell above the goal, one-third of the time you move two cells above the goal, and one-third of the time you move to the goal.\n",
    "</p>"
   ]
  },
  {
   "cell_type": "markdown",
   "metadata": {},
   "source": [
    "#### Basic movements"
   ]
  },
  {
   "cell_type": "code",
   "execution_count": 21,
   "metadata": {},
   "outputs": [],
   "source": [
    "stoch_basic_world = initialize(movement_type='basic')"
   ]
  },
  {
   "cell_type": "code",
   "execution_count": 22,
   "metadata": {},
   "outputs": [
    {
     "name": "stderr",
     "output_type": "stream",
     "text": [
      "100%|██████████| 500000/500000 [02:37<00:00, 3168.73it/s]\n"
     ]
    }
   ],
   "source": [
    "stoch_basic_world = iterate(stoch_basic_world, n_episodes=n_episodes,\n",
    "                            wind_type='stoch',  # stochastic\n",
    "                            alpha=alpha, epsilon=epsilon, gamma=gamma)"
   ]
  },
  {
   "cell_type": "code",
   "execution_count": 35,
   "metadata": {},
   "outputs": [
    {
     "name": "stdout",
     "output_type": "stream",
     "text": [
      "  0 | S: (3, 0) | Wind: -1 | A: (-1, 0)\n",
      "  1 | S: (1, 0) | Wind: 1 | A: (0, 1)\n",
      "  2 | S: (2, 1) | Wind: 0 | A: (-1, 0)\n",
      "  3 | S: (1, 1) | Wind: -1 | A: (0, 1)\n",
      "  4 | S: (0, 2) | Wind: -1 | A: (0, 1)\n",
      "  5 | S: (0, 3) | Wind: 2 | A: (0, 1)\n",
      "  6 | S: (2, 4) | Wind: 0 | A: (0, 1)\n",
      "  7 | S: (2, 5) | Wind: 0 | A: (0, 1)\n",
      "  8 | S: (2, 6) | Wind: 2 | A: (0, 1)\n",
      "  9 | S: (4, 7) | Wind: 2 | A: (0, 1)\n",
      " 10 | S: (6, 8) | Wind: 1 | A: (0, 1)\n",
      " 11 | S: (6, 9) | Wind: 1 | A: (-1, 0)\n",
      " 12 | S: (6, 9) | Wind: -1 | A: (-1, 0)\n",
      " 13 | S: (4, 9) | Wind: 0 | A: (-1, 0)\n",
      " 14 | S: (3, 9) | Wind: 0 | A: (-1, 0)\n",
      " 15 | S: (2, 9) | Wind: 1 | A: (-1, 0)\n",
      " 16 | S: (2, 9) | Wind: 1 | A: (-1, 0)\n",
      " 17 | S: (2, 9) | Wind: 0 | A: (-1, 0)\n",
      " 18 | S: (1, 9) | Wind: -1 | A: (-1, 0)\n",
      " 19 | S: (0, 9) | Wind: 0 | A: (0, -1)\n",
      " 20 | S: (0, 8) | Wind: 0 | A: (0, -1)\n",
      " 21 | S: (0, 7) | Wind: 2 | A: (-1, 0)\n",
      " 22 | S: (1, 7) | Wind: 1 | A: (-1, 0)\n",
      " 23 | S: (1, 7) | Wind: 2 | A: (-1, 0)\n",
      " 24 | S: (2, 7) | Wind: 1 | A: (-1, 0)\n",
      " 25 | S: (2, 7) | Wind: 3 | A: (-1, 0)\n",
      " 26 | S: (4, 7) | Wind: 2 | A: (0, 1)\n",
      " 27 | S: (6, 8) | Wind: 0 | A: (0, 1)\n",
      " 28 | S: (6, 9) | Wind: 1 | A: (-1, 0)\n",
      " 29 | S: (6, 9) | Wind: 1 | A: (-1, 0)\n",
      " 30 | S: (6, 9) | Wind: 0 | A: (-1, 0)\n",
      " 31 | S: (5, 9) | Wind: -1 | A: (-1, 0)\n",
      " 32 | S: (3, 9) | Wind: -1 | A: (-1, 0)\n",
      " 33 | S: (1, 9) | Wind: 1 | A: (-1, 0)\n",
      " 34 | S: (1, 9) | Wind: -1 | A: (-1, 0)\n",
      " 35 | S: (0, 9) | Wind: 0 | A: (0, -1)\n",
      " 36 | S: (0, 8) | Wind: 2 | A: (0, -1)\n",
      " 37 | S: (2, 7) | Wind: 2 | A: (-1, 0)\n",
      " 38 | S: (3, 7)\n",
      "\n",
      "SUCCESS: Goal state (3, 7) has been reached in 38 steps!\n"
     ]
    }
   ],
   "source": [
    "create_path(stoch_basic_world)"
   ]
  },
  {
   "cell_type": "markdown",
   "metadata": {},
   "source": [
    "#### King movements"
   ]
  },
  {
   "cell_type": "code",
   "execution_count": 24,
   "metadata": {},
   "outputs": [],
   "source": [
    "stoch_king_world = initialize(movement_type='king')"
   ]
  },
  {
   "cell_type": "code",
   "execution_count": 25,
   "metadata": {},
   "outputs": [
    {
     "name": "stderr",
     "output_type": "stream",
     "text": [
      "100%|██████████| 500000/500000 [01:52<00:00, 4453.72it/s]\n"
     ]
    }
   ],
   "source": [
    "stoch_king_world = iterate(stoch_king_world, n_episodes=n_episodes,\n",
    "                           wind_type='stoch',  # stochastic\n",
    "                           alpha=alpha, epsilon=epsilon, gamma=gamma)"
   ]
  },
  {
   "cell_type": "code",
   "execution_count": 36,
   "metadata": {},
   "outputs": [
    {
     "name": "stdout",
     "output_type": "stream",
     "text": [
      "  0 | S: (3, 0) | Wind: -1 | A: (-1, 1)\n",
      "  1 | S: (1, 1) | Wind: -1 | A: (-1, 1)\n",
      "  2 | S: (0, 2) | Wind: 1 | A: (-1, 1)\n",
      "  3 | S: (0, 3) | Wind: 1 | A: (0, 1)\n",
      "  4 | S: (1, 4) | Wind: 0 | A: (-1, 1)\n",
      "  5 | S: (0, 5) | Wind: 1 | A: (-1, 1)\n",
      "  6 | S: (0, 6) | Wind: 1 | A: (0, 1)\n",
      "  7 | S: (1, 7) | Wind: 1 | A: (1, 0)\n",
      "  8 | S: (3, 7)\n",
      "\n",
      "SUCCESS: Goal state (3, 7) has been reached in 8 steps!\n"
     ]
    }
   ],
   "source": [
    "create_path(stoch_king_world)"
   ]
  },
  {
   "cell_type": "markdown",
   "metadata": {},
   "source": [
    "#### King movements + no movement"
   ]
  },
  {
   "cell_type": "code",
   "execution_count": 27,
   "metadata": {},
   "outputs": [],
   "source": [
    "stoch_king_0_world = initialize(movement_type='king_0')"
   ]
  },
  {
   "cell_type": "code",
   "execution_count": 28,
   "metadata": {},
   "outputs": [
    {
     "name": "stderr",
     "output_type": "stream",
     "text": [
      "100%|██████████| 500000/500000 [01:59<00:00, 4190.56it/s]\n"
     ]
    }
   ],
   "source": [
    "stoch_king_0_world = iterate(stoch_king_0_world, n_episodes=n_episodes,\n",
    "                             wind_type='stoch',  # stochastic\n",
    "                             alpha=alpha, epsilon=epsilon, gamma=gamma)"
   ]
  },
  {
   "cell_type": "code",
   "execution_count": 40,
   "metadata": {},
   "outputs": [
    {
     "name": "stdout",
     "output_type": "stream",
     "text": [
      "  0 | S: (3, 0) | Wind: 0 | A: (-1, 1)\n",
      "  1 | S: (2, 1) | Wind: -1 | A: (0, 1)\n",
      "  2 | S: (1, 2) | Wind: 1 | A: (1, 0)\n",
      "  3 | S: (3, 2) | Wind: 0 | A: (-1, 0)\n",
      "  4 | S: (2, 2) | Wind: -1 | A: (-1, 1)\n",
      "  5 | S: (0, 3) | Wind: 1 | A: (-1, 1)\n",
      "  6 | S: (0, 4) | Wind: 0 | A: (-1, 1)\n",
      "  7 | S: (0, 5) | Wind: 2 | A: (-1, 1)\n",
      "  8 | S: (1, 6) | Wind: 2 | A: (1, 1)\n",
      "  9 | S: (4, 7) | Wind: 3 | A: (0, 1)\n",
      " 10 | S: (6, 8) | Wind: 1 | A: (-1, 1)\n",
      " 11 | S: (6, 9) | Wind: 1 | A: (-1, 0)\n",
      " 12 | S: (6, 9) | Wind: 0 | A: (-1, 0)\n",
      " 13 | S: (5, 9) | Wind: 0 | A: (-1, 1)\n",
      " 14 | S: (4, 9) | Wind: -1 | A: (-1, 1)\n",
      " 15 | S: (2, 9) | Wind: 0 | A: (-1, 1)\n",
      " 16 | S: (1, 9) | Wind: 1 | A: (-1, 1)\n",
      " 17 | S: (1, 9) | Wind: 1 | A: (-1, 1)\n",
      " 18 | S: (1, 9) | Wind: 1 | A: (-1, 1)\n",
      " 19 | S: (1, 9) | Wind: -1 | A: (-1, 1)\n",
      " 20 | S: (0, 9) | Wind: 1 | A: (-1, -1)\n",
      " 21 | S: (0, 8) | Wind: 2 | A: (1, -1)\n",
      " 22 | S: (3, 7)\n",
      "\n",
      "SUCCESS: Goal state (3, 7) has been reached in 22 steps!\n"
     ]
    }
   ],
   "source": [
    "create_path(stoch_king_0_world)"
   ]
  }
 ],
 "metadata": {
  "kernelspec": {
   "display_name": "Python 3",
   "language": "python",
   "name": "python3"
  },
  "language_info": {
   "codemirror_mode": {
    "name": "ipython",
    "version": 3
   },
   "file_extension": ".py",
   "mimetype": "text/x-python",
   "name": "python",
   "nbconvert_exporter": "python",
   "pygments_lexer": "ipython3",
   "version": "3.7.1"
  }
 },
 "nbformat": 4,
 "nbformat_minor": 2
}
